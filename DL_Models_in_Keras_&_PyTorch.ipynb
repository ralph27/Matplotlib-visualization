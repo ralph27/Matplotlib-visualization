{
  "nbformat": 4,
  "nbformat_minor": 0,
  "metadata": {
    "colab": {
      "provenance": [],
      "toc_visible": true,
      "include_colab_link": true
    },
    "kernelspec": {
      "name": "python3",
      "display_name": "Python 3"
    }
  },
  "cells": [
    {
      "cell_type": "markdown",
      "metadata": {
        "id": "view-in-github",
        "colab_type": "text"
      },
      "source": [
        "<a href=\"https://colab.research.google.com/github/ralph27/Matplotlib-visualization/blob/master/DL_Models_in_Keras_%26_PyTorch.ipynb\" target=\"_parent\"><img src=\"https://colab.research.google.com/assets/colab-badge.svg\" alt=\"Open In Colab\"/></a>"
      ]
    },
    {
      "cell_type": "markdown",
      "metadata": {
        "id": "jzqXONrQeOXw"
      },
      "source": [
        "# Part 1: Deep Learning Models with Keras\n",
        "© 2024, Zaka AI, Inc. All Rights Reserved.\n",
        "\n",
        "---\n",
        "\n",
        "\n",
        "\n",
        "**Objective:** In the first part of this notebook exercise, you will learn how to build Artficial Neural Networks for deep learning models using the Keras library integrated in TensorFlow as of version 2.0. Keras is a minimalist Python library which made building DL models simple and straightforward.\n",
        "\n",
        "We will be exploring how to build and train a neural network model using both of the Keras Sequential and Functional APIs.\n"
      ]
    },
    {
      "cell_type": "markdown",
      "metadata": {
        "id": "CaEAhwZDEPhC"
      },
      "source": [
        "## Defining a Sequential model\n",
        "\n",
        "The first exercise for this colab is building an artificial neural network using the Keras sequential model.\n",
        "The library we need is `tensorflow.keras.models`\n",
        "\n"
      ]
    },
    {
      "cell_type": "code",
      "metadata": {
        "id": "j8nSbmRKeHNU",
        "colab": {
          "base_uri": "https://localhost:8080/"
        },
        "outputId": "205895cc-8d97-4c34-e206-745529991840"
      },
      "source": [
        "from tensorflow.keras.models import Sequential\n",
        "from tensorflow.keras.layers import Dense\n",
        "\n",
        "model = Sequential()\n",
        "model.add(Dense(4, input_dim = 2, activation = 'relu'))\n",
        "model.add(Dense(6, activation = 'relu'))\n",
        "model.add(Dense(1, activation = \"sigmoid\"))\n",
        "\n",
        "# print model\n",
        "model.summary()"
      ],
      "execution_count": null,
      "outputs": [
        {
          "output_type": "stream",
          "name": "stdout",
          "text": [
            "Model: \"sequential\"\n",
            "_________________________________________________________________\n",
            " Layer (type)                Output Shape              Param #   \n",
            "=================================================================\n",
            " dense (Dense)               (None, 4)                 12        \n",
            "                                                                 \n",
            " dense_1 (Dense)             (None, 6)                 30        \n",
            "                                                                 \n",
            " dense_2 (Dense)             (None, 1)                 7         \n",
            "                                                                 \n",
            "=================================================================\n",
            "Total params: 49 (196.00 Byte)\n",
            "Trainable params: 49 (196.00 Byte)\n",
            "Non-trainable params: 0 (0.00 Byte)\n",
            "_________________________________________________________________\n"
          ]
        }
      ]
    },
    {
      "cell_type": "markdown",
      "metadata": {
        "id": "OanaXge8PeXq"
      },
      "source": [
        "Reminder: `Dense` refers to a fully connected layer (meaning all the neurons of a layers are connected to all the neurons in the following layer)."
      ]
    },
    {
      "cell_type": "markdown",
      "metadata": {
        "id": "bALHQ-q3M8fn"
      },
      "source": [
        "This how the ReLU function looks like:\n",
        "\n",
        "![alt text](https://qph.fs.quoracdn.net/main-qimg-9e3b87e175577fe97da51fd1a2b50eac)\n",
        "\n",
        "*source:* https://qph.fs.quoracdn.net/main-qimg-9e3b87e175577fe97da51fd1a2b50eac"
      ]
    },
    {
      "cell_type": "markdown",
      "metadata": {
        "id": "9BFAu54ENeQD"
      },
      "source": [
        "And this is the sigmoid function which squashes values to the interval [0;1]:\n",
        "\n",
        "![alt text](https://qph.fs.quoracdn.net/main-qimg-6b67bea3311c3429bfb34b6b1737fe0c)\n",
        "\n",
        "*source:* https://qph.fs.quoracdn.net/main-qimg-6b67bea3311c3429bfb34b6b1737fe0c"
      ]
    },
    {
      "cell_type": "markdown",
      "metadata": {
        "id": "dBVW-qoPh7Od"
      },
      "source": [
        "## Visualizing the model\n",
        "\n",
        "Using plot_model, Keras allows us to visually portray the artificial network we have built with input layer, hidden layers and an output layer."
      ]
    },
    {
      "cell_type": "code",
      "metadata": {
        "id": "ia5n5YUmfDzE",
        "colab": {
          "base_uri": "https://localhost:8080/",
          "height": 422
        },
        "outputId": "0eff32c6-9074-44e9-b04c-a92bc352d4ee"
      },
      "source": [
        "from tensorflow.keras.utils import plot_model\n",
        "\n",
        "plot_model(model, to_file='model_plot.png', show_shapes=True, show_layer_names=True)"
      ],
      "execution_count": null,
      "outputs": [
        {
          "output_type": "execute_result",
          "data": {
            "image/png": "[encoded data removed]",
            "text/plain": [
              "<IPython.core.display.Image object>"
            ]
          },
          "metadata": {},
          "execution_count": 2
        }
      ]
    },
    {
      "cell_type": "markdown",
      "metadata": {
        "id": "UVZTAnU7kldM"
      },
      "source": [
        "## Functional API\n",
        "Unlike the sequential model, the functional model allows for complex interactions between layers. As you'll notice, in this model, we create the input layer apart and then link all the layers to one another using brackets ( ) at the end of the definition.\n",
        "\n",
        "We will need two extra libraries on before:\n",
        "* `tensorflow.keras.utils`\n",
        "* `tensorflow.keras.layers`\n",
        "\n",
        "We will also be using plot_model to visualize this functional API model.\n",
        "\n"
      ]
    },
    {
      "cell_type": "code",
      "metadata": {
        "id": "w3BOdjdpkoBG",
        "colab": {
          "base_uri": "https://localhost:8080/",
          "height": 856
        },
        "outputId": "db4a4af4-691d-4767-acc8-8a72fe5f73c1"
      },
      "source": [
        "from tensorflow.keras.utils import plot_model\n",
        "from tensorflow.keras.models import Model\n",
        "from tensorflow.keras.layers import Input\n",
        "from tensorflow.keras.layers import Dense\n",
        "\n",
        "# define input\n",
        "visible = Input(shape=(10,))\n",
        "\n",
        "# connect layers\n",
        "layer1 = Dense(10, activation='relu')(visible)\n",
        "layer2 = Dense(20, activation='relu')(layer1)\n",
        "layer3 = Dense(10, activation='relu')(layer2)\n",
        "layer4 = Dense(1, activation='sigmoid')(layer3)\n",
        "\n",
        "# finally, we create the model\n",
        "model = Model(inputs=visible, outputs=layer4)\n",
        "\n",
        "# summarize layers\n",
        "model.summary()\n",
        "\n",
        "# plot graph\n",
        "plot_model(model, to_file='multilayer_perceptron_graph.png',  show_shapes=True, show_layer_names=True)"
      ],
      "execution_count": null,
      "outputs": [
        {
          "output_type": "stream",
          "name": "stdout",
          "text": [
            "Model: \"model\"\n",
            "_________________________________________________________________\n",
            " Layer (type)                Output Shape              Param #   \n",
            "=================================================================\n",
            " input_1 (InputLayer)        [(None, 10)]              0         \n",
            "                                                                 \n",
            " dense_3 (Dense)             (None, 10)                110       \n",
            "                                                                 \n",
            " dense_4 (Dense)             (None, 20)                220       \n",
            "                                                                 \n",
            " dense_5 (Dense)             (None, 10)                210       \n",
            "                                                                 \n",
            " dense_6 (Dense)             (None, 1)                 11        \n",
            "                                                                 \n",
            "=================================================================\n",
            "Total params: 551 (2.15 KB)\n",
            "Trainable params: 551 (2.15 KB)\n",
            "Non-trainable params: 0 (0.00 Byte)\n",
            "_________________________________________________________________\n"
          ]
        },
        {
          "output_type": "execute_result",
          "data": {
            "image/png": "[encoded data removed]",
            "text/plain": [
              "<IPython.core.display.Image object>"
            ]
          },
          "metadata": {},
          "execution_count": 3
        }
      ]
    },
    {
      "cell_type": "markdown",
      "metadata": {
        "id": "-Cn2GOYfq6N4"
      },
      "source": [
        "## Model training\n",
        "\n",
        "In this code cell, the steps for building, compiling and training the model are described.\n",
        "1. First build the neural network with activation functions\n",
        "2. Compile the model by choosing an optimization algorithm (stochastic gradient descent for this example) and a loss (cost) function to optimize. Since the output neuron is singular with a sigmoid activation function, we will use binary_crossentropy.\n",
        "3. We generated random data just for the sake of describing the way to train an ANN (artificial neural network)\n",
        "4. Train the model using the `fit()` function choosing batch size and epochs.\n",
        "5. Use the trained model to predict on new unseen data.\n",
        "\n",
        "Since this is a random data set, the predicted output is not very meaningful but the purpose is to show the ***compile*** and ***train*** steps when developping a Deep Learning Model."
      ]
    },
    {
      "cell_type": "code",
      "metadata": {
        "id": "yRfi6nViq8Ol",
        "colab": {
          "base_uri": "https://localhost:8080/"
        },
        "outputId": "d056fdd0-4307-4b35-9753-77e94438af46"
      },
      "source": [
        "# build model\n",
        "model = Sequential()\n",
        "model.add(Dense(32, activation='relu', input_dim=100))\n",
        "model.add(Dense(1, activation='sigmoid'))\n",
        "\n",
        "# compile model\n",
        "model.compile(optimizer='sgd',\n",
        "              loss='binary_crossentropy', # categorical crossentry, MSE = 0.5(y-y_hat)^2\n",
        "              metrics=['accuracy'])\n",
        "\n",
        "# Generate dummy data\n",
        "import numpy as np\n",
        "data = np.random.random((100000, 100))\n",
        "labels = np.random.randint(2, size=(100000, 1))\n",
        "\n",
        "# Train the model, iterating on the data in batches of 32 samples\n",
        "model.fit(data, labels, epochs=10, batch_size=32)\n",
        "\n",
        "# predict\n",
        "data_example = np.random.random((1, 100))\n",
        "model.predict(data_example)"
      ],
      "execution_count": null,
      "outputs": [
        {
          "output_type": "stream",
          "name": "stdout",
          "text": [
            "Epoch 1/10\n",
            "3125/3125 [==============================] - 13s 4ms/step - loss: 0.6997 - accuracy: 0.5022\n",
            "Epoch 2/10\n",
            "3125/3125 [==============================] - 8s 3ms/step - loss: 0.6947 - accuracy: 0.5033\n",
            "Epoch 3/10\n",
            "3125/3125 [==============================] - 5s 2ms/step - loss: 0.6938 - accuracy: 0.5061\n",
            "Epoch 4/10\n",
            "3125/3125 [==============================] - 4s 1ms/step - loss: 0.6935 - accuracy: 0.5049\n",
            "Epoch 5/10\n",
            "3125/3125 [==============================] - 4s 1ms/step - loss: 0.6933 - accuracy: 0.5072\n",
            "Epoch 6/10\n",
            "3125/3125 [==============================] - 5s 2ms/step - loss: 0.6932 - accuracy: 0.5071\n",
            "Epoch 7/10\n",
            "3125/3125 [==============================] - 5s 1ms/step - loss: 0.6932 - accuracy: 0.5064\n",
            "Epoch 8/10\n",
            "3125/3125 [==============================] - 5s 2ms/step - loss: 0.6931 - accuracy: 0.5084\n",
            "Epoch 9/10\n",
            "3125/3125 [==============================] - 5s 1ms/step - loss: 0.6930 - accuracy: 0.5086\n",
            "Epoch 10/10\n",
            "3125/3125 [==============================] - 4s 1ms/step - loss: 0.6930 - accuracy: 0.5084\n",
            "1/1 [==============================] - 0s 77ms/step\n"
          ]
        },
        {
          "output_type": "execute_result",
          "data": {
            "text/plain": [
              "array([[0.5075126]], dtype=float32)"
            ]
          },
          "metadata": {},
          "execution_count": 4
        }
      ]
    },
    {
      "cell_type": "markdown",
      "metadata": {
        "id": "0D9yPyzikUb5"
      },
      "source": [
        "# Custom model\n",
        "\n",
        "Let's build this model using both Sequential & Functional APIs. This exercise will help you apply everything we went through in this notebook. Good luck!\n",
        "![alt text](https://miro.medium.com/max/1400/1*3fA77_mLNiJTSgZFhYnU0Q@2x.png)"
      ]
    },
    {
      "cell_type": "code",
      "metadata": {
        "id": "ADMFinBIkSua",
        "colab": {
          "base_uri": "https://localhost:8080/"
        },
        "outputId": "57e62398-62cf-4269-a71a-967797a05e63"
      },
      "source": [
        "# Sequential\n",
        "\n",
        "model = Sequential()\n",
        "model.add(Dense(4, activation=\"relu\", input_dim=3))\n",
        "model.add(Dense(4, activation=\"relu\"))\n",
        "model.add(Dense(1, activation=\"sigmoid\"))\n",
        "\n",
        "model.summary()"
      ],
      "execution_count": null,
      "outputs": [
        {
          "output_type": "stream",
          "name": "stdout",
          "text": [
            "Model: \"sequential_2\"\n",
            "_________________________________________________________________\n",
            " Layer (type)                Output Shape              Param #   \n",
            "=================================================================\n",
            " dense_9 (Dense)             (None, 4)                 16        \n",
            "                                                                 \n",
            " dense_10 (Dense)            (None, 4)                 20        \n",
            "                                                                 \n",
            " dense_11 (Dense)            (None, 1)                 5         \n",
            "                                                                 \n",
            "=================================================================\n",
            "Total params: 41 (164.00 Byte)\n",
            "Trainable params: 41 (164.00 Byte)\n",
            "Non-trainable params: 0 (0.00 Byte)\n",
            "_________________________________________________________________\n"
          ]
        }
      ]
    },
    {
      "cell_type": "code",
      "metadata": {
        "id": "PfoBeIlemyCX",
        "colab": {
          "base_uri": "https://localhost:8080/"
        },
        "outputId": "36d8dbd5-d8f0-4237-b617-781b2f8a9679"
      },
      "source": [
        "# Functional API\n",
        "\n",
        "input_layer = Input(shape=3)\n",
        "hidden1 = Dense(4, activation=\"relu\")(input_layer)\n",
        "hidden2 = Dense(4, activation=\"relu\")(hidden1)\n",
        "output_layer = Dense(1, activation=\"sigmoid\")(hidden2)\n",
        "\n",
        "model = Model(inputs=input_layer, outputs=output_layer)\n",
        "\n",
        "model.summary()"
      ],
      "execution_count": null,
      "outputs": [
        {
          "output_type": "stream",
          "name": "stdout",
          "text": [
            "Model: \"model_1\"\n",
            "_________________________________________________________________\n",
            " Layer (type)                Output Shape              Param #   \n",
            "=================================================================\n",
            " input_2 (InputLayer)        [(None, 3)]               0         \n",
            "                                                                 \n",
            " dense_12 (Dense)            (None, 4)                 16        \n",
            "                                                                 \n",
            " dense_13 (Dense)            (None, 4)                 20        \n",
            "                                                                 \n",
            " dense_14 (Dense)            (None, 1)                 5         \n",
            "                                                                 \n",
            "=================================================================\n",
            "Total params: 41 (164.00 Byte)\n",
            "Trainable params: 41 (164.00 Byte)\n",
            "Non-trainable params: 0 (0.00 Byte)\n",
            "_________________________________________________________________\n"
          ]
        }
      ]
    },
    {
      "cell_type": "markdown",
      "metadata": {
        "id": "P6KL0U6a_Spr"
      },
      "source": [
        "# Part 2: Build a Feed Forward Neural Network with Pytorch\n",
        "\n"
      ]
    },
    {
      "cell_type": "markdown",
      "source": [
        "Objective: The goal of this second part is to get you acquainted with PyTorch as we learn how to build a Feed Forward Neural Network that will be able to classify between different types of flowers. You'll also import the dataset directly from GitHub, and use libraries that you should already be familiar with."
      ],
      "metadata": {
        "id": "YCoFxVHthSts"
      }
    },
    {
      "cell_type": "markdown",
      "source": [
        "## Importing Libraries and Data"
      ],
      "metadata": {
        "id": "igxKcUATXvPz"
      }
    },
    {
      "cell_type": "markdown",
      "source": [
        "Let's start by importing the necessary libraries:\n",
        "\n",
        "**torch**: Imports the PyTorch library for machine learning tasks, especially neural networks.\n",
        "\n",
        "**torch.nn**: Brings in PyTorch's neural network module providing tools for network construction.\n",
        "\n",
        "**torch.nn.functional**: Imports PyTorch's functional API for operations like activations and losses.\n",
        "\n",
        "**numpy**: Imports NumPy, a fundamental library for numerical computations in Python.\n",
        "\n",
        "**pandas**: Brings in Pandas, useful for data manipulation and analysis with DataFrames.\n",
        "\n",
        "**matplotlib**: Imports Matplotlib for creating visualizations and plots in Python."
      ],
      "metadata": {
        "id": "QwbGNMoiX2vz"
      }
    },
    {
      "cell_type": "code",
      "source": [
        "import torch\n",
        "import torch.nn as nn\n",
        "import torch.nn.functional as F\n",
        "from torch.utils.data import Dataset, DataLoader\n",
        "from sklearn.model_selection import train_test_split\n",
        "\n",
        "import numpy as np\n",
        "import pandas as pd\n",
        "import matplotlib.pyplot as plt"
      ],
      "metadata": {
        "id": "v6ai4CJwbMLm"
      },
      "execution_count": null,
      "outputs": []
    },
    {
      "cell_type": "markdown",
      "source": [
        "We will clone our dataset directly from github into our colab workspace"
      ],
      "metadata": {
        "id": "_CznB2EWY1vT"
      }
    },
    {
      "cell_type": "code",
      "source": [
        "# clone git repo\n",
        "!git clone https://github.com/zaka-ai/intro2dl.git\n",
        "\n",
        "# change directory\n",
        "%cd intro2dl/data/"
      ],
      "metadata": {
        "colab": {
          "base_uri": "https://localhost:8080/"
        },
        "id": "3-cGbZvQk3L5",
        "outputId": "91a28d44-96e9-40a0-bd35-0b141268c930"
      },
      "execution_count": null,
      "outputs": [
        {
          "output_type": "stream",
          "name": "stdout",
          "text": [
            "Cloning into 'intro2dl'...\n",
            "remote: Enumerating objects: 16, done.\u001b[K\n",
            "remote: Counting objects: 100% (16/16), done.\u001b[K\n",
            "remote: Compressing objects: 100% (15/15), done.\u001b[K\n",
            "remote: Total 16 (delta 1), reused 7 (delta 0), pack-reused 0\u001b[K\n",
            "Receiving objects: 100% (16/16), 52.95 KiB | 1.20 MiB/s, done.\n",
            "Resolving deltas: 100% (1/1), done.\n",
            "/content/intro2dl/data\n"
          ]
        }
      ]
    },
    {
      "cell_type": "markdown",
      "source": [
        "Now we store our dataset into a dataframe that can be used by our libraries"
      ],
      "metadata": {
        "id": "WutSoJtiZDWi"
      }
    },
    {
      "cell_type": "code",
      "source": [
        "from pandas import read_csv\n",
        "\n",
        "# load dataset\n",
        "dataframe = read_csv(\"iris.csv\", header=None)\n",
        "dataframe.columns = [\"sepal length (cm)\",\n",
        "                   \"sepal width (cm)\",\n",
        "                   \"petal length (cm)\",\n",
        "                   \"petal width (cm)\",\n",
        "                   \"species\"]\n",
        "\n",
        "dataframe.head()\n"
      ],
      "metadata": {
        "colab": {
          "base_uri": "https://localhost:8080/",
          "height": 204
        },
        "id": "r6lN4iyQlYyK",
        "outputId": "42c4287f-eb97-41d6-fe9a-77da94da86bb"
      },
      "execution_count": null,
      "outputs": [
        {
          "output_type": "execute_result",
          "data": {
            "text/plain": [
              "   sepal length (cm)  sepal width (cm)  petal length (cm)  petal width (cm)  \\\n",
              "0                5.1               3.5                1.4               0.2   \n",
              "1                4.9               3.0                1.4               0.2   \n",
              "2                4.7               3.2                1.3               0.2   \n",
              "3                4.6               3.1                1.5               0.2   \n",
              "4                5.0               3.6                1.4               0.2   \n",
              "\n",
              "       species  \n",
              "0  Iris-setosa  \n",
              "1  Iris-setosa  \n",
              "2  Iris-setosa  \n",
              "3  Iris-setosa  \n",
              "4  Iris-setosa  "
            ],
            "text/html": [
              "\n",
              "  <div id=\"df-089b9904-a0cf-4a17-abb1-8d038b5b59fe\" class=\"colab-df-container\">\n",
              "    <div>\n",
              "<style scoped>\n",
              "    .dataframe tbody tr th:only-of-type {\n",
              "        vertical-align: middle;\n",
              "    }\n",
              "\n",
              "    .dataframe tbody tr th {\n",
              "        vertical-align: top;\n",
              "    }\n",
              "\n",
              "    .dataframe thead th {\n",
              "        text-align: right;\n",
              "    }\n",
              "</style>\n",
              "<table border=\"1\" class=\"dataframe\">\n",
              "  <thead>\n",
              "    <tr style=\"text-align: right;\">\n",
              "      <th></th>\n",
              "      <th>sepal length (cm)</th>\n",
              "      <th>sepal width (cm)</th>\n",
              "      <th>petal length (cm)</th>\n",
              "      <th>petal width (cm)</th>\n",
              "      <th>species</th>\n",
              "    </tr>\n",
              "  </thead>\n",
              "  <tbody>\n",
              "    <tr>\n",
              "      <th>0</th>\n",
              "      <td>5.1</td>\n",
              "      <td>3.5</td>\n",
              "      <td>1.4</td>\n",
              "      <td>0.2</td>\n",
              "      <td>Iris-setosa</td>\n",
              "    </tr>\n",
              "    <tr>\n",
              "      <th>1</th>\n",
              "      <td>4.9</td>\n",
              "      <td>3.0</td>\n",
              "      <td>1.4</td>\n",
              "      <td>0.2</td>\n",
              "      <td>Iris-setosa</td>\n",
              "    </tr>\n",
              "    <tr>\n",
              "      <th>2</th>\n",
              "      <td>4.7</td>\n",
              "      <td>3.2</td>\n",
              "      <td>1.3</td>\n",
              "      <td>0.2</td>\n",
              "      <td>Iris-setosa</td>\n",
              "    </tr>\n",
              "    <tr>\n",
              "      <th>3</th>\n",
              "      <td>4.6</td>\n",
              "      <td>3.1</td>\n",
              "      <td>1.5</td>\n",
              "      <td>0.2</td>\n",
              "      <td>Iris-setosa</td>\n",
              "    </tr>\n",
              "    <tr>\n",
              "      <th>4</th>\n",
              "      <td>5.0</td>\n",
              "      <td>3.6</td>\n",
              "      <td>1.4</td>\n",
              "      <td>0.2</td>\n",
              "      <td>Iris-setosa</td>\n",
              "    </tr>\n",
              "  </tbody>\n",
              "</table>\n",
              "</div>\n",
              "    <div class=\"colab-df-buttons\">\n",
              "\n",
              "  <div class=\"colab-df-container\">\n",
              "    <button class=\"colab-df-convert\" onclick=\"convertToInteractive('df-089b9904-a0cf-4a17-abb1-8d038b5b59fe')\"\n",
              "            title=\"Convert this dataframe to an interactive table.\"\n",
              "            style=\"display:none;\">\n",
              "\n",
              "  <svg xmlns=\"http://www.w3.org/2000/svg\" height=\"24px\" viewBox=\"0 -960 960 960\">\n",
              "    <path d=\"M120-120v-720h720v720H120Zm60-500h600v-160H180v160Zm220 220h160v-160H400v160Zm0 220h160v-160H400v160ZM180-400h160v-160H180v160Zm440 0h160v-160H620v160ZM180-180h160v-160H180v160Zm440 0h160v-160H620v160Z\"/>\n",
              "  </svg>\n",
              "    </button>\n",
              "\n",
              "  <style>\n",
              "    .colab-df-container {\n",
              "      display:flex;\n",
              "      gap: 12px;\n",
              "    }\n",
              "\n",
              "    .colab-df-convert {\n",
              "      background-color: #E8F0FE;\n",
              "      border: none;\n",
              "      border-radius: 50%;\n",
              "      cursor: pointer;\n",
              "      display: none;\n",
              "      fill: #1967D2;\n",
              "      height: 32px;\n",
              "      padding: 0 0 0 0;\n",
              "      width: 32px;\n",
              "    }\n",
              "\n",
              "    .colab-df-convert:hover {\n",
              "      background-color: #E2EBFA;\n",
              "      box-shadow: 0px 1px 2px rgba(60, 64, 67, 0.3), 0px 1px 3px 1px rgba(60, 64, 67, 0.15);\n",
              "      fill: #174EA6;\n",
              "    }\n",
              "\n",
              "    .colab-df-buttons div {\n",
              "      margin-bottom: 4px;\n",
              "    }\n",
              "\n",
              "    [theme=dark] .colab-df-convert {\n",
              "      background-color: #3B4455;\n",
              "      fill: #D2E3FC;\n",
              "    }\n",
              "\n",
              "    [theme=dark] .colab-df-convert:hover {\n",
              "      background-color: #434B5C;\n",
              "      box-shadow: 0px 1px 3px 1px rgba(0, 0, 0, 0.15);\n",
              "      filter: drop-shadow(0px 1px 2px rgba(0, 0, 0, 0.3));\n",
              "      fill: #FFFFFF;\n",
              "    }\n",
              "  </style>\n",
              "\n",
              "    <script>\n",
              "      const buttonEl =\n",
              "        document.querySelector('#df-089b9904-a0cf-4a17-abb1-8d038b5b59fe button.colab-df-convert');\n",
              "      buttonEl.style.display =\n",
              "        google.colab.kernel.accessAllowed ? 'block' : 'none';\n",
              "\n",
              "      async function convertToInteractive(key) {\n",
              "        const element = document.querySelector('#df-089b9904-a0cf-4a17-abb1-8d038b5b59fe');\n",
              "        const dataTable =\n",
              "          await google.colab.kernel.invokeFunction('convertToInteractive',\n",
              "                                                    [key], {});\n",
              "        if (!dataTable) return;\n",
              "\n",
              "        const docLinkHtml = 'Like what you see? Visit the ' +\n",
              "          '<a target=\"_blank\" href=https://colab.research.google.com/notebooks/data_table.ipynb>data table notebook</a>'\n",
              "          + ' to learn more about interactive tables.';\n",
              "        element.innerHTML = '';\n",
              "        dataTable['output_type'] = 'display_data';\n",
              "        await google.colab.output.renderOutput(dataTable, element);\n",
              "        const docLink = document.createElement('div');\n",
              "        docLink.innerHTML = docLinkHtml;\n",
              "        element.appendChild(docLink);\n",
              "      }\n",
              "    </script>\n",
              "  </div>\n",
              "\n",
              "\n",
              "<div id=\"df-0d903d44-ab0e-451f-b2df-068e42018a79\">\n",
              "  <button class=\"colab-df-quickchart\" onclick=\"quickchart('df-0d903d44-ab0e-451f-b2df-068e42018a79')\"\n",
              "            title=\"Suggest charts\"\n",
              "            style=\"display:none;\">\n",
              "\n",
              "<svg xmlns=\"http://www.w3.org/2000/svg\" height=\"24px\"viewBox=\"0 0 24 24\"\n",
              "     width=\"24px\">\n",
              "    <g>\n",
              "        <path d=\"M19 3H5c-1.1 0-2 .9-2 2v14c0 1.1.9 2 2 2h14c1.1 0 2-.9 2-2V5c0-1.1-.9-2-2-2zM9 17H7v-7h2v7zm4 0h-2V7h2v10zm4 0h-2v-4h2v4z\"/>\n",
              "    </g>\n",
              "</svg>\n",
              "  </button>\n",
              "\n",
              "<style>\n",
              "  .colab-df-quickchart {\n",
              "      --bg-color: #E8F0FE;\n",
              "      --fill-color: #1967D2;\n",
              "      --hover-bg-color: #E2EBFA;\n",
              "      --hover-fill-color: #174EA6;\n",
              "      --disabled-fill-color: #AAA;\n",
              "      --disabled-bg-color: #DDD;\n",
              "  }\n",
              "\n",
              "  [theme=dark] .colab-df-quickchart {\n",
              "      --bg-color: #3B4455;\n",
              "      --fill-color: #D2E3FC;\n",
              "      --hover-bg-color: #434B5C;\n",
              "      --hover-fill-color: #FFFFFF;\n",
              "      --disabled-bg-color: #3B4455;\n",
              "      --disabled-fill-color: #666;\n",
              "  }\n",
              "\n",
              "  .colab-df-quickchart {\n",
              "    background-color: var(--bg-color);\n",
              "    border: none;\n",
              "    border-radius: 50%;\n",
              "    cursor: pointer;\n",
              "    display: none;\n",
              "    fill: var(--fill-color);\n",
              "    height: 32px;\n",
              "    padding: 0;\n",
              "    width: 32px;\n",
              "  }\n",
              "\n",
              "  .colab-df-quickchart:hover {\n",
              "    background-color: var(--hover-bg-color);\n",
              "    box-shadow: 0 1px 2px rgba(60, 64, 67, 0.3), 0 1px 3px 1px rgba(60, 64, 67, 0.15);\n",
              "    fill: var(--button-hover-fill-color);\n",
              "  }\n",
              "\n",
              "  .colab-df-quickchart-complete:disabled,\n",
              "  .colab-df-quickchart-complete:disabled:hover {\n",
              "    background-color: var(--disabled-bg-color);\n",
              "    fill: var(--disabled-fill-color);\n",
              "    box-shadow: none;\n",
              "  }\n",
              "\n",
              "  .colab-df-spinner {\n",
              "    border: 2px solid var(--fill-color);\n",
              "    border-color: transparent;\n",
              "    border-bottom-color: var(--fill-color);\n",
              "    animation:\n",
              "      spin 1s steps(1) infinite;\n",
              "  }\n",
              "\n",
              "  @keyframes spin {\n",
              "    0% {\n",
              "      border-color: transparent;\n",
              "      border-bottom-color: var(--fill-color);\n",
              "      border-left-color: var(--fill-color);\n",
              "    }\n",
              "    20% {\n",
              "      border-color: transparent;\n",
              "      border-left-color: var(--fill-color);\n",
              "      border-top-color: var(--fill-color);\n",
              "    }\n",
              "    30% {\n",
              "      border-color: transparent;\n",
              "      border-left-color: var(--fill-color);\n",
              "      border-top-color: var(--fill-color);\n",
              "      border-right-color: var(--fill-color);\n",
              "    }\n",
              "    40% {\n",
              "      border-color: transparent;\n",
              "      border-right-color: var(--fill-color);\n",
              "      border-top-color: var(--fill-color);\n",
              "    }\n",
              "    60% {\n",
              "      border-color: transparent;\n",
              "      border-right-color: var(--fill-color);\n",
              "    }\n",
              "    80% {\n",
              "      border-color: transparent;\n",
              "      border-right-color: var(--fill-color);\n",
              "      border-bottom-color: var(--fill-color);\n",
              "    }\n",
              "    90% {\n",
              "      border-color: transparent;\n",
              "      border-bottom-color: var(--fill-color);\n",
              "    }\n",
              "  }\n",
              "</style>\n",
              "\n",
              "  <script>\n",
              "    async function quickchart(key) {\n",
              "      const quickchartButtonEl =\n",
              "        document.querySelector('#' + key + ' button');\n",
              "      quickchartButtonEl.disabled = true;  // To prevent multiple clicks.\n",
              "      quickchartButtonEl.classList.add('colab-df-spinner');\n",
              "      try {\n",
              "        const charts = await google.colab.kernel.invokeFunction(\n",
              "            'suggestCharts', [key], {});\n",
              "      } catch (error) {\n",
              "        console.error('Error during call to suggestCharts:', error);\n",
              "      }\n",
              "      quickchartButtonEl.classList.remove('colab-df-spinner');\n",
              "      quickchartButtonEl.classList.add('colab-df-quickchart-complete');\n",
              "    }\n",
              "    (() => {\n",
              "      let quickchartButtonEl =\n",
              "        document.querySelector('#df-0d903d44-ab0e-451f-b2df-068e42018a79 button');\n",
              "      quickchartButtonEl.style.display =\n",
              "        google.colab.kernel.accessAllowed ? 'block' : 'none';\n",
              "    })();\n",
              "  </script>\n",
              "</div>\n",
              "\n",
              "    </div>\n",
              "  </div>\n"
            ]
          },
          "metadata": {},
          "execution_count": 9
        }
      ]
    },
    {
      "cell_type": "markdown",
      "source": [
        "## Dealing with the Dataset"
      ],
      "metadata": {
        "id": "4uH7Oq8SZT-X"
      }
    },
    {
      "cell_type": "markdown",
      "source": [
        "Let's start by mapping each class to a numerical value so it can be understood by our machine more easily"
      ],
      "metadata": {
        "id": "dxlX_i0XZWrZ"
      }
    },
    {
      "cell_type": "code",
      "source": [
        "mappings = {\n",
        "   \"Iris-setosa\": 0,\n",
        "   \"Iris-versicolor\": 1,\n",
        "   \"Iris-virginica\": 2\n",
        "}\n",
        "dataframe[\"species\"] = dataframe[\"species\"].apply(lambda x: mappings[x])\n",
        "\n",
        "dataframe.head()"
      ],
      "metadata": {
        "colab": {
          "base_uri": "https://localhost:8080/",
          "height": 204
        },
        "id": "SUtXLrSjnvEb",
        "outputId": "784a81df-d014-481d-c839-a068262e9a86"
      },
      "execution_count": null,
      "outputs": [
        {
          "output_type": "execute_result",
          "data": {
            "text/plain": [
              "   sepal length (cm)  sepal width (cm)  petal length (cm)  petal width (cm)  \\\n",
              "0                5.1               3.5                1.4               0.2   \n",
              "1                4.9               3.0                1.4               0.2   \n",
              "2                4.7               3.2                1.3               0.2   \n",
              "3                4.6               3.1                1.5               0.2   \n",
              "4                5.0               3.6                1.4               0.2   \n",
              "\n",
              "   species  \n",
              "0        0  \n",
              "1        0  \n",
              "2        0  \n",
              "3        0  \n",
              "4        0  "
            ],
            "text/html": [
              "\n",
              "  <div id=\"df-54d155e9-00bb-4a37-8b48-50dea2105f4e\" class=\"colab-df-container\">\n",
              "    <div>\n",
              "<style scoped>\n",
              "    .dataframe tbody tr th:only-of-type {\n",
              "        vertical-align: middle;\n",
              "    }\n",
              "\n",
              "    .dataframe tbody tr th {\n",
              "        vertical-align: top;\n",
              "    }\n",
              "\n",
              "    .dataframe thead th {\n",
              "        text-align: right;\n",
              "    }\n",
              "</style>\n",
              "<table border=\"1\" class=\"dataframe\">\n",
              "  <thead>\n",
              "    <tr style=\"text-align: right;\">\n",
              "      <th></th>\n",
              "      <th>sepal length (cm)</th>\n",
              "      <th>sepal width (cm)</th>\n",
              "      <th>petal length (cm)</th>\n",
              "      <th>petal width (cm)</th>\n",
              "      <th>species</th>\n",
              "    </tr>\n",
              "  </thead>\n",
              "  <tbody>\n",
              "    <tr>\n",
              "      <th>0</th>\n",
              "      <td>5.1</td>\n",
              "      <td>3.5</td>\n",
              "      <td>1.4</td>\n",
              "      <td>0.2</td>\n",
              "      <td>0</td>\n",
              "    </tr>\n",
              "    <tr>\n",
              "      <th>1</th>\n",
              "      <td>4.9</td>\n",
              "      <td>3.0</td>\n",
              "      <td>1.4</td>\n",
              "      <td>0.2</td>\n",
              "      <td>0</td>\n",
              "    </tr>\n",
              "    <tr>\n",
              "      <th>2</th>\n",
              "      <td>4.7</td>\n",
              "      <td>3.2</td>\n",
              "      <td>1.3</td>\n",
              "      <td>0.2</td>\n",
              "      <td>0</td>\n",
              "    </tr>\n",
              "    <tr>\n",
              "      <th>3</th>\n",
              "      <td>4.6</td>\n",
              "      <td>3.1</td>\n",
              "      <td>1.5</td>\n",
              "      <td>0.2</td>\n",
              "      <td>0</td>\n",
              "    </tr>\n",
              "    <tr>\n",
              "      <th>4</th>\n",
              "      <td>5.0</td>\n",
              "      <td>3.6</td>\n",
              "      <td>1.4</td>\n",
              "      <td>0.2</td>\n",
              "      <td>0</td>\n",
              "    </tr>\n",
              "  </tbody>\n",
              "</table>\n",
              "</div>\n",
              "    <div class=\"colab-df-buttons\">\n",
              "\n",
              "  <div class=\"colab-df-container\">\n",
              "    <button class=\"colab-df-convert\" onclick=\"convertToInteractive('df-54d155e9-00bb-4a37-8b48-50dea2105f4e')\"\n",
              "            title=\"Convert this dataframe to an interactive table.\"\n",
              "            style=\"display:none;\">\n",
              "\n",
              "  <svg xmlns=\"http://www.w3.org/2000/svg\" height=\"24px\" viewBox=\"0 -960 960 960\">\n",
              "    <path d=\"M120-120v-720h720v720H120Zm60-500h600v-160H180v160Zm220 220h160v-160H400v160Zm0 220h160v-160H400v160ZM180-400h160v-160H180v160Zm440 0h160v-160H620v160ZM180-180h160v-160H180v160Zm440 0h160v-160H620v160Z\"/>\n",
              "  </svg>\n",
              "    </button>\n",
              "\n",
              "  <style>\n",
              "    .colab-df-container {\n",
              "      display:flex;\n",
              "      gap: 12px;\n",
              "    }\n",
              "\n",
              "    .colab-df-convert {\n",
              "      background-color: #E8F0FE;\n",
              "      border: none;\n",
              "      border-radius: 50%;\n",
              "      cursor: pointer;\n",
              "      display: none;\n",
              "      fill: #1967D2;\n",
              "      height: 32px;\n",
              "      padding: 0 0 0 0;\n",
              "      width: 32px;\n",
              "    }\n",
              "\n",
              "    .colab-df-convert:hover {\n",
              "      background-color: #E2EBFA;\n",
              "      box-shadow: 0px 1px 2px rgba(60, 64, 67, 0.3), 0px 1px 3px 1px rgba(60, 64, 67, 0.15);\n",
              "      fill: #174EA6;\n",
              "    }\n",
              "\n",
              "    .colab-df-buttons div {\n",
              "      margin-bottom: 4px;\n",
              "    }\n",
              "\n",
              "    [theme=dark] .colab-df-convert {\n",
              "      background-color: #3B4455;\n",
              "      fill: #D2E3FC;\n",
              "    }\n",
              "\n",
              "    [theme=dark] .colab-df-convert:hover {\n",
              "      background-color: #434B5C;\n",
              "      box-shadow: 0px 1px 3px 1px rgba(0, 0, 0, 0.15);\n",
              "      filter: drop-shadow(0px 1px 2px rgba(0, 0, 0, 0.3));\n",
              "      fill: #FFFFFF;\n",
              "    }\n",
              "  </style>\n",
              "\n",
              "    <script>\n",
              "      const buttonEl =\n",
              "        document.querySelector('#df-54d155e9-00bb-4a37-8b48-50dea2105f4e button.colab-df-convert');\n",
              "      buttonEl.style.display =\n",
              "        google.colab.kernel.accessAllowed ? 'block' : 'none';\n",
              "\n",
              "      async function convertToInteractive(key) {\n",
              "        const element = document.querySelector('#df-54d155e9-00bb-4a37-8b48-50dea2105f4e');\n",
              "        const dataTable =\n",
              "          await google.colab.kernel.invokeFunction('convertToInteractive',\n",
              "                                                    [key], {});\n",
              "        if (!dataTable) return;\n",
              "\n",
              "        const docLinkHtml = 'Like what you see? Visit the ' +\n",
              "          '<a target=\"_blank\" href=https://colab.research.google.com/notebooks/data_table.ipynb>data table notebook</a>'\n",
              "          + ' to learn more about interactive tables.';\n",
              "        element.innerHTML = '';\n",
              "        dataTable['output_type'] = 'display_data';\n",
              "        await google.colab.output.renderOutput(dataTable, element);\n",
              "        const docLink = document.createElement('div');\n",
              "        docLink.innerHTML = docLinkHtml;\n",
              "        element.appendChild(docLink);\n",
              "      }\n",
              "    </script>\n",
              "  </div>\n",
              "\n",
              "\n",
              "<div id=\"df-f6590300-258d-4deb-81bd-54294f9e171a\">\n",
              "  <button class=\"colab-df-quickchart\" onclick=\"quickchart('df-f6590300-258d-4deb-81bd-54294f9e171a')\"\n",
              "            title=\"Suggest charts\"\n",
              "            style=\"display:none;\">\n",
              "\n",
              "<svg xmlns=\"http://www.w3.org/2000/svg\" height=\"24px\"viewBox=\"0 0 24 24\"\n",
              "     width=\"24px\">\n",
              "    <g>\n",
              "        <path d=\"M19 3H5c-1.1 0-2 .9-2 2v14c0 1.1.9 2 2 2h14c1.1 0 2-.9 2-2V5c0-1.1-.9-2-2-2zM9 17H7v-7h2v7zm4 0h-2V7h2v10zm4 0h-2v-4h2v4z\"/>\n",
              "    </g>\n",
              "</svg>\n",
              "  </button>\n",
              "\n",
              "<style>\n",
              "  .colab-df-quickchart {\n",
              "      --bg-color: #E8F0FE;\n",
              "      --fill-color: #1967D2;\n",
              "      --hover-bg-color: #E2EBFA;\n",
              "      --hover-fill-color: #174EA6;\n",
              "      --disabled-fill-color: #AAA;\n",
              "      --disabled-bg-color: #DDD;\n",
              "  }\n",
              "\n",
              "  [theme=dark] .colab-df-quickchart {\n",
              "      --bg-color: #3B4455;\n",
              "      --fill-color: #D2E3FC;\n",
              "      --hover-bg-color: #434B5C;\n",
              "      --hover-fill-color: #FFFFFF;\n",
              "      --disabled-bg-color: #3B4455;\n",
              "      --disabled-fill-color: #666;\n",
              "  }\n",
              "\n",
              "  .colab-df-quickchart {\n",
              "    background-color: var(--bg-color);\n",
              "    border: none;\n",
              "    border-radius: 50%;\n",
              "    cursor: pointer;\n",
              "    display: none;\n",
              "    fill: var(--fill-color);\n",
              "    height: 32px;\n",
              "    padding: 0;\n",
              "    width: 32px;\n",
              "  }\n",
              "\n",
              "  .colab-df-quickchart:hover {\n",
              "    background-color: var(--hover-bg-color);\n",
              "    box-shadow: 0 1px 2px rgba(60, 64, 67, 0.3), 0 1px 3px 1px rgba(60, 64, 67, 0.15);\n",
              "    fill: var(--button-hover-fill-color);\n",
              "  }\n",
              "\n",
              "  .colab-df-quickchart-complete:disabled,\n",
              "  .colab-df-quickchart-complete:disabled:hover {\n",
              "    background-color: var(--disabled-bg-color);\n",
              "    fill: var(--disabled-fill-color);\n",
              "    box-shadow: none;\n",
              "  }\n",
              "\n",
              "  .colab-df-spinner {\n",
              "    border: 2px solid var(--fill-color);\n",
              "    border-color: transparent;\n",
              "    border-bottom-color: var(--fill-color);\n",
              "    animation:\n",
              "      spin 1s steps(1) infinite;\n",
              "  }\n",
              "\n",
              "  @keyframes spin {\n",
              "    0% {\n",
              "      border-color: transparent;\n",
              "      border-bottom-color: var(--fill-color);\n",
              "      border-left-color: var(--fill-color);\n",
              "    }\n",
              "    20% {\n",
              "      border-color: transparent;\n",
              "      border-left-color: var(--fill-color);\n",
              "      border-top-color: var(--fill-color);\n",
              "    }\n",
              "    30% {\n",
              "      border-color: transparent;\n",
              "      border-left-color: var(--fill-color);\n",
              "      border-top-color: var(--fill-color);\n",
              "      border-right-color: var(--fill-color);\n",
              "    }\n",
              "    40% {\n",
              "      border-color: transparent;\n",
              "      border-right-color: var(--fill-color);\n",
              "      border-top-color: var(--fill-color);\n",
              "    }\n",
              "    60% {\n",
              "      border-color: transparent;\n",
              "      border-right-color: var(--fill-color);\n",
              "    }\n",
              "    80% {\n",
              "      border-color: transparent;\n",
              "      border-right-color: var(--fill-color);\n",
              "      border-bottom-color: var(--fill-color);\n",
              "    }\n",
              "    90% {\n",
              "      border-color: transparent;\n",
              "      border-bottom-color: var(--fill-color);\n",
              "    }\n",
              "  }\n",
              "</style>\n",
              "\n",
              "  <script>\n",
              "    async function quickchart(key) {\n",
              "      const quickchartButtonEl =\n",
              "        document.querySelector('#' + key + ' button');\n",
              "      quickchartButtonEl.disabled = true;  // To prevent multiple clicks.\n",
              "      quickchartButtonEl.classList.add('colab-df-spinner');\n",
              "      try {\n",
              "        const charts = await google.colab.kernel.invokeFunction(\n",
              "            'suggestCharts', [key], {});\n",
              "      } catch (error) {\n",
              "        console.error('Error during call to suggestCharts:', error);\n",
              "      }\n",
              "      quickchartButtonEl.classList.remove('colab-df-spinner');\n",
              "      quickchartButtonEl.classList.add('colab-df-quickchart-complete');\n",
              "    }\n",
              "    (() => {\n",
              "      let quickchartButtonEl =\n",
              "        document.querySelector('#df-f6590300-258d-4deb-81bd-54294f9e171a button');\n",
              "      quickchartButtonEl.style.display =\n",
              "        google.colab.kernel.accessAllowed ? 'block' : 'none';\n",
              "    })();\n",
              "  </script>\n",
              "</div>\n",
              "\n",
              "    </div>\n",
              "  </div>\n"
            ]
          },
          "metadata": {},
          "execution_count": 10
        }
      ]
    },
    {
      "cell_type": "markdown",
      "source": [
        "We can now split our input features X from our output features Y. This can be done with simple python code"
      ],
      "metadata": {
        "id": "e3soVHG6Zizl"
      }
    },
    {
      "cell_type": "code",
      "source": [
        "# split X and Y features\n",
        "dataset = dataframe.values\n",
        "print(dataset.shape)\n",
        "X = dataset[:,0:4].astype(float)\n",
        "Y = dataset[:,4]"
      ],
      "metadata": {
        "colab": {
          "base_uri": "https://localhost:8080/"
        },
        "id": "-08WnDcFnnmA",
        "outputId": "0f094de7-ed23-4fba-a2e9-8cd7007bd2d9"
      },
      "execution_count": null,
      "outputs": [
        {
          "output_type": "stream",
          "name": "stdout",
          "text": [
            "(150, 5)\n"
          ]
        }
      ]
    },
    {
      "cell_type": "markdown",
      "source": [
        "## Splitting for Training and Testing"
      ],
      "metadata": {
        "id": "jDTvFD4YZtxx"
      }
    },
    {
      "cell_type": "markdown",
      "source": [
        "Let's use the train_test_split function to split our data between training and testing with 20% division size"
      ],
      "metadata": {
        "id": "hGN4rTLYZ5bU"
      }
    },
    {
      "cell_type": "code",
      "source": [
        "X_train, X_test, y_train, y_test = train_test_split(X,Y,test_size=0.20)"
      ],
      "metadata": {
        "id": "K1nkaouMlgmw"
      },
      "execution_count": null,
      "outputs": []
    },
    {
      "cell_type": "markdown",
      "source": [
        "Now we transform our data from NumPy arrays to PyTorch Tensors, preparing them for consumption by a PyTorch model by utilizing specific data types (FloatTensor for input features and LongTensor for target labels)."
      ],
      "metadata": {
        "id": "Lf-xq6fuaNcC"
      }
    },
    {
      "cell_type": "code",
      "source": [
        "X_train = torch.FloatTensor(X_train)\n",
        "X_test = torch.FloatTensor(X_test)\n",
        "y_train = torch.LongTensor(y_train)\n",
        "y_test = torch.LongTensor(y_test)\n"
      ],
      "metadata": {
        "id": "asm_BYyyomY_"
      },
      "execution_count": null,
      "outputs": []
    },
    {
      "cell_type": "markdown",
      "source": [
        "Let's visualize the train and test shapes for the input features"
      ],
      "metadata": {
        "id": "5xs3zPoCaYdM"
      }
    },
    {
      "cell_type": "code",
      "source": [
        "print(X_train.shape)\n",
        "print(X_test.shape)"
      ],
      "metadata": {
        "colab": {
          "base_uri": "https://localhost:8080/"
        },
        "id": "ilWUDvs6ooai",
        "outputId": "211e26c3-f56e-484d-d3e7-ef7c6c627ea1"
      },
      "execution_count": null,
      "outputs": [
        {
          "output_type": "stream",
          "name": "stdout",
          "text": [
            "torch.Size([120, 4])\n",
            "torch.Size([30, 4])\n"
          ]
        }
      ]
    },
    {
      "cell_type": "markdown",
      "source": [
        "## Creating the Neural Network with Pytorch"
      ],
      "metadata": {
        "id": "qW6lzs7UagxR"
      }
    },
    {
      "cell_type": "markdown",
      "source": [
        "Creating a neural network model by PyTorch is not complicated.\n",
        "\n",
        "Our model will have following structure:\n",
        "\n",
        "\n",
        "\n",
        "*   Fully Connected Layer 4 input features, 25 output features\n",
        "\n",
        "*   Fully Connected Layer 25 input features, 30 output features\n",
        "\n",
        "\n",
        "*   Output Layer 30 input features , 3 output features\n",
        "\n",
        "\n",
        "Here we choose hidden layers’ neurons as arbitrary (25 and 30 respectively).\n",
        "We will use ReLU (rectified linear unit) as activation function. In PyTorch there’s a module torch.nn.ReLU gives us that we need."
      ],
      "metadata": {
        "id": "r2MbymWAo7cR"
      }
    },
    {
      "cell_type": "code",
      "source": [
        "class Model(nn.Module):\n",
        "    def __init__(self, input_features=4, hidden_layer1=25, hidden_layer2=30, output_features=3):\n",
        "        super().__init__()\n",
        "        self.fc1 = nn.Linear(input_features,hidden_layer1)\n",
        "        self.fc2 = nn.Linear(hidden_layer1, hidden_layer2)\n",
        "        self.out = nn.Linear(hidden_layer2, output_features)\n",
        "\n",
        "    def forward(self, x):\n",
        "        x = F.relu(self.fc1(x))\n",
        "        x = F.relu(self.fc2(x))\n",
        "        x = self.out(x)\n",
        "        return x"
      ],
      "metadata": {
        "id": "bTP4oEzJpcVT"
      },
      "execution_count": null,
      "outputs": []
    },
    {
      "cell_type": "markdown",
      "source": [
        "Let's now set our hyperparameters\n",
        "\n",
        "*   We start with learning rate 0.01 then we can work on and see its effect on the training process\n",
        "\n",
        "*   Also we will use Cross Entropy and Adam optimizer.\n",
        "\n"
      ],
      "metadata": {
        "id": "u_9wzTvjphP1"
      }
    },
    {
      "cell_type": "code",
      "source": [
        "criterion = nn.CrossEntropyLoss()\n",
        "model=Model()\n",
        "optimizer = torch.optim.Adam(model.parameters(), lr=0.01)"
      ],
      "metadata": {
        "id": "L_R7t-qsp1OS"
      },
      "execution_count": null,
      "outputs": []
    },
    {
      "cell_type": "markdown",
      "source": [
        "Let's create our training loop with a 100 epochs, computing predictions, calculating losses, updating the model's weights via optimization, and storing the losses for each epoch."
      ],
      "metadata": {
        "id": "tQpfrVzzaxmz"
      }
    },
    {
      "cell_type": "code",
      "source": [
        "epochs = 100\n",
        "losses = []\n",
        "\n",
        "for i in range(epochs):\n",
        "    y_pred = model.forward(X_train)\n",
        "    loss = criterion(y_pred, y_train)\n",
        "    losses.append(loss)\n",
        "    print(f'epoch: {i:2}  loss: {loss.item():10.8f}')\n",
        "\n",
        "    optimizer.zero_grad()\n",
        "    loss.backward()\n",
        "    optimizer.step()"
      ],
      "metadata": {
        "colab": {
          "base_uri": "https://localhost:8080/"
        },
        "id": "SNypcXHKqc7v",
        "outputId": "8bc0cdeb-1c87-47b7-bba7-dfdb00e8e923"
      },
      "execution_count": null,
      "outputs": [
        {
          "output_type": "stream",
          "name": "stdout",
          "text": [
            "epoch:  0  loss: 1.20380473\n",
            "epoch:  1  loss: 1.03926599\n",
            "epoch:  2  loss: 1.03504813\n",
            "epoch:  3  loss: 1.00034475\n",
            "epoch:  4  loss: 0.93800676\n",
            "epoch:  5  loss: 0.87978184\n",
            "epoch:  6  loss: 0.82691371\n",
            "epoch:  7  loss: 0.77817696\n",
            "epoch:  8  loss: 0.73098636\n",
            "epoch:  9  loss: 0.68101400\n",
            "epoch: 10  loss: 0.63070267\n",
            "epoch: 11  loss: 0.58618468\n",
            "epoch: 12  loss: 0.54974759\n",
            "epoch: 13  loss: 0.52044326\n",
            "epoch: 14  loss: 0.49424300\n",
            "epoch: 15  loss: 0.46898094\n",
            "epoch: 16  loss: 0.44560096\n",
            "epoch: 17  loss: 0.42540610\n",
            "epoch: 18  loss: 0.40599138\n",
            "epoch: 19  loss: 0.38446555\n",
            "epoch: 20  loss: 0.36346382\n",
            "epoch: 21  loss: 0.34459966\n",
            "epoch: 22  loss: 0.32340986\n",
            "epoch: 23  loss: 0.30192283\n",
            "epoch: 24  loss: 0.28295603\n",
            "epoch: 25  loss: 0.26195067\n",
            "epoch: 26  loss: 0.24379215\n",
            "epoch: 27  loss: 0.22555618\n",
            "epoch: 28  loss: 0.20822078\n",
            "epoch: 29  loss: 0.19297791\n",
            "epoch: 30  loss: 0.17814970\n",
            "epoch: 31  loss: 0.16573986\n",
            "epoch: 32  loss: 0.15369517\n",
            "epoch: 33  loss: 0.14362738\n",
            "epoch: 34  loss: 0.13459726\n",
            "epoch: 35  loss: 0.12644118\n",
            "epoch: 36  loss: 0.11991923\n",
            "epoch: 37  loss: 0.11333750\n",
            "epoch: 38  loss: 0.10869930\n",
            "epoch: 39  loss: 0.10353477\n",
            "epoch: 40  loss: 0.09982921\n",
            "epoch: 41  loss: 0.09615266\n",
            "epoch: 42  loss: 0.09285638\n",
            "epoch: 43  loss: 0.09033635\n",
            "epoch: 44  loss: 0.08748724\n",
            "epoch: 45  loss: 0.08553593\n",
            "epoch: 46  loss: 0.08343629\n",
            "epoch: 47  loss: 0.08156569\n",
            "epoch: 48  loss: 0.08019599\n",
            "epoch: 49  loss: 0.07855026\n",
            "epoch: 50  loss: 0.07736896\n",
            "epoch: 51  loss: 0.07626233\n",
            "epoch: 52  loss: 0.07505523\n",
            "epoch: 53  loss: 0.07422689\n",
            "epoch: 54  loss: 0.07331102\n",
            "epoch: 55  loss: 0.07241959\n",
            "epoch: 56  loss: 0.07177520\n",
            "epoch: 57  loss: 0.07103165\n",
            "epoch: 58  loss: 0.07034131\n",
            "epoch: 59  loss: 0.06982002\n",
            "epoch: 60  loss: 0.06923136\n",
            "epoch: 61  loss: 0.06867202\n",
            "epoch: 62  loss: 0.06824279\n",
            "epoch: 63  loss: 0.06778874\n",
            "epoch: 64  loss: 0.06732514\n",
            "epoch: 65  loss: 0.06695506\n",
            "epoch: 66  loss: 0.06660964\n",
            "epoch: 67  loss: 0.06623420\n",
            "epoch: 68  loss: 0.06589579\n",
            "epoch: 69  loss: 0.06561447\n",
            "epoch: 70  loss: 0.06532914\n",
            "epoch: 71  loss: 0.06503002\n",
            "epoch: 72  loss: 0.06476505\n",
            "epoch: 73  loss: 0.06453537\n",
            "epoch: 74  loss: 0.06430320\n",
            "epoch: 75  loss: 0.06406332\n",
            "epoch: 76  loss: 0.06383971\n",
            "epoch: 77  loss: 0.06364234\n",
            "epoch: 78  loss: 0.06345484\n",
            "epoch: 79  loss: 0.06326216\n",
            "epoch: 80  loss: 0.06307012\n",
            "epoch: 81  loss: 0.06289022\n",
            "epoch: 82  loss: 0.06272552\n",
            "epoch: 83  loss: 0.06256887\n",
            "epoch: 84  loss: 0.06241242\n",
            "epoch: 85  loss: 0.06225542\n",
            "epoch: 86  loss: 0.06210119\n",
            "epoch: 87  loss: 0.06195385\n",
            "epoch: 88  loss: 0.06181430\n",
            "epoch: 89  loss: 0.06168086\n",
            "epoch: 90  loss: 0.06155109\n",
            "epoch: 91  loss: 0.06142312\n",
            "epoch: 92  loss: 0.06129665\n",
            "epoch: 93  loss: 0.06117150\n",
            "epoch: 94  loss: 0.06104843\n",
            "epoch: 95  loss: 0.06092759\n",
            "epoch: 96  loss: 0.06080936\n",
            "epoch: 97  loss: 0.06069365\n",
            "epoch: 98  loss: 0.06058053\n",
            "epoch: 99  loss: 0.06046992\n"
          ]
        }
      ]
    },
    {
      "cell_type": "markdown",
      "source": [
        "Now let's test it!"
      ],
      "metadata": {
        "id": "0cPmYFBVbGr-"
      }
    },
    {
      "cell_type": "code",
      "source": [
        "unknown_iris = torch.tensor([4.0,3.3,2.7,1.5])\n",
        "with torch.no_grad():\n",
        "  print(model(unknown_iris))\n",
        "  val=  model(unknown_iris).argmax()\n",
        "\n",
        "if val == 0:\n",
        "  print('These features represent Iris-setosa')\n",
        "elif val == 1:\n",
        "  print('These features represent Iris-Virginica')\n",
        "elif val == 2:\n",
        "  print('These features represent Iris-Versicolor')\n"
      ],
      "metadata": {
        "colab": {
          "base_uri": "https://localhost:8080/"
        },
        "id": "r59yhLLhtbio",
        "outputId": "23aa0266-93cd-4f5a-96b9-56072c387570"
      },
      "execution_count": null,
      "outputs": [
        {
          "output_type": "stream",
          "name": "stdout",
          "text": [
            "tensor([ 2.7591,  6.6473, -4.7794])\n",
            "These features represent Iris-Virginica\n"
          ]
        }
      ]
    }
  ]
}