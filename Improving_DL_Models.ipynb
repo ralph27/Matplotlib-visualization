{
  "nbformat": 4,
  "nbformat_minor": 0,
  "metadata": {
    "colab": {
      "provenance": [],
      "gpuType": "T4",
      "include_colab_link": true
    },
    "kernelspec": {
      "name": "python3",
      "display_name": "Python 3"
    },
    "accelerator": "GPU"
  },
  "cells": [
    {
      "cell_type": "markdown",
      "metadata": {
        "id": "view-in-github",
        "colab_type": "text"
      },
      "source": [
        "<a href=\"https://colab.research.google.com/github/ralph27/ZAKA-hands-on/blob/master/Improving_DL_Models.ipynb\" target=\"_parent\"><img src=\"https://colab.research.google.com/assets/colab-badge.svg\" alt=\"Open In Colab\"/></a>"
      ]
    },
    {
      "cell_type": "markdown",
      "metadata": {
        "id": "YAk09h4Y32VI"
      },
      "source": [
        "# Advanced concepts\n",
        "© 2024, Zaka AI, Inc. All Rights Reserved.\n",
        "\n",
        "---\n",
        "\n",
        "\n",
        "\n",
        "**Objective:** The goal of this notebook is to go over the advanced concepts that were discussed in the chapter and see them in action.\n",
        "\n",
        "Each block will cover a different concept and blocks are not related.\n",
        "\n",
        "The required libraries for this exercise are `Keras` for building and training the DL model, `Numpy` for numerical handling and loading of the dataset and `scikit-learn` for validation and datasplit."
      ]
    },
    {
      "cell_type": "markdown",
      "metadata": {
        "id": "1ypl_ygA1Ju0"
      },
      "source": [
        "##Load Data"
      ]
    },
    {
      "cell_type": "markdown",
      "metadata": {
        "id": "JJR07znuLcjx"
      },
      "source": [
        "## Save / Load models"
      ]
    },
    {
      "cell_type": "markdown",
      "metadata": {
        "id": "GIBun7e4ynFv"
      },
      "source": [
        "Training deep learning models can take a lot of time, depending on the size of the network and the dataset used for training. It can be beneficial to save a copy of the network while training, so we can resume later on if anything happens.\n",
        "\n",
        "Keras provides us with functions that allows us to serialize a model to JSON format and to save its weights in HDF5 format. When saving the model as a JSON file, we’re only saving the network’s architecture and not the weights.\n",
        "\n",
        "Similarly, we can load a model from disk my calling the model_from_json() function and we can load the weights by calling load_weights() function."
      ]
    },
    {
      "cell_type": "markdown",
      "metadata": {
        "id": "nPOetN6E1f6x"
      },
      "source": [
        "### Train model and save it to disk\n",
        "\n",
        "In this example, we will create a Keras sequential model, fit this model on the [Credit Card Fraud Fraud Detection 2023 dataset](https://www.kaggle.com/datasets/nelgiriyewithana/credit-card-fraud-detection-dataset-2023), then serialize the model to JSON format and save it along with the weights on the disk.\n",
        "\n",
        "We will later see how we can load the model from disk, apply the weights and resume work as normal."
      ]
    },
    {
      "cell_type": "code",
      "source": [
        "from google.colab import drive\n",
        "drive.mount('/content/drive')\n"
      ],
      "metadata": {
        "colab": {
          "base_uri": "https://localhost:8080/"
        },
        "id": "Gu7LqPtV0QIK",
        "outputId": "9bcc1ce9-b2f7-46b7-925c-790c13677431"
      },
      "execution_count": null,
      "outputs": [
        {
          "output_type": "stream",
          "name": "stdout",
          "text": [
            "Mounted at /content/drive\n"
          ]
        }
      ]
    },
    {
      "cell_type": "code",
      "metadata": {
        "id": "7BKNm6zSLgKw",
        "colab": {
          "base_uri": "https://localhost:8080/",
          "height": 255
        },
        "outputId": "0055250a-a299-4002-a1d9-4195b5f86630"
      },
      "source": [
        "from tensorflow.keras.models import Sequential\n",
        "from tensorflow.keras.layers import Dense, Dropout\n",
        "from tensorflow.keras.models import model_from_json\n",
        "import pandas as pd\n",
        "import numpy\n",
        "\n",
        "# load the dataset\n",
        "dataframe = pd.read_csv(\"/content/drive/MyDrive/creditcard_2023.csv\")\n",
        "dataframe.head()"
      ],
      "execution_count": null,
      "outputs": [
        {
          "output_type": "execute_result",
          "data": {
            "text/plain": [
              "   id        V1        V2        V3        V4        V5        V6        V7  \\\n",
              "0   0 -0.260648 -0.469648  2.496266 -0.083724  0.129681  0.732898  0.519014   \n",
              "1   1  0.985100 -0.356045  0.558056 -0.429654  0.277140  0.428605  0.406466   \n",
              "2   2 -0.260272 -0.949385  1.728538 -0.457986  0.074062  1.419481  0.743511   \n",
              "3   3 -0.152152 -0.508959  1.746840 -1.090178  0.249486  1.143312  0.518269   \n",
              "4   4 -0.206820 -0.165280  1.527053 -0.448293  0.106125  0.530549  0.658849   \n",
              "\n",
              "         V8        V9  ...       V21       V22       V23       V24       V25  \\\n",
              "0 -0.130006  0.727159  ... -0.110552  0.217606 -0.134794  0.165959  0.126280   \n",
              "1 -0.133118  0.347452  ... -0.194936 -0.605761  0.079469 -0.577395  0.190090   \n",
              "2 -0.095576 -0.261297  ... -0.005020  0.702906  0.945045 -1.154666 -0.605564   \n",
              "3 -0.065130 -0.205698  ... -0.146927 -0.038212 -0.214048 -1.893131  1.003963   \n",
              "4 -0.212660  1.049921  ... -0.106984  0.729727 -0.161666  0.312561 -0.414116   \n",
              "\n",
              "        V26       V27       V28    Amount  Class  \n",
              "0 -0.434824 -0.081230 -0.151045  17982.10      0  \n",
              "1  0.296503 -0.248052 -0.064512   6531.37      0  \n",
              "2 -0.312895 -0.300258 -0.244718   2513.54      0  \n",
              "3 -0.515950 -0.165316  0.048424   5384.44      0  \n",
              "4  1.071126  0.023712  0.419117  14278.97      0  \n",
              "\n",
              "[5 rows x 31 columns]"
            ],
            "text/html": [
              "\n",
              "  <div id=\"df-7cb7fcad-cd15-4b0a-8f12-6ce51025a672\" class=\"colab-df-container\">\n",
              "    <div>\n",
              "<style scoped>\n",
              "    .dataframe tbody tr th:only-of-type {\n",
              "        vertical-align: middle;\n",
              "    }\n",
              "\n",
              "    .dataframe tbody tr th {\n",
              "        vertical-align: top;\n",
              "    }\n",
              "\n",
              "    .dataframe thead th {\n",
              "        text-align: right;\n",
              "    }\n",
              "</style>\n",
              "<table border=\"1\" class=\"dataframe\">\n",
              "  <thead>\n",
              "    <tr style=\"text-align: right;\">\n",
              "      <th></th>\n",
              "      <th>id</th>\n",
              "      <th>V1</th>\n",
              "      <th>V2</th>\n",
              "      <th>V3</th>\n",
              "      <th>V4</th>\n",
              "      <th>V5</th>\n",
              "      <th>V6</th>\n",
              "      <th>V7</th>\n",
              "      <th>V8</th>\n",
              "      <th>V9</th>\n",
              "      <th>...</th>\n",
              "      <th>V21</th>\n",
              "      <th>V22</th>\n",
              "      <th>V23</th>\n",
              "      <th>V24</th>\n",
              "      <th>V25</th>\n",
              "      <th>V26</th>\n",
              "      <th>V27</th>\n",
              "      <th>V28</th>\n",
              "      <th>Amount</th>\n",
              "      <th>Class</th>\n",
              "    </tr>\n",
              "  </thead>\n",
              "  <tbody>\n",
              "    <tr>\n",
              "      <th>0</th>\n",
              "      <td>0</td>\n",
              "      <td>-0.260648</td>\n",
              "      <td>-0.469648</td>\n",
              "      <td>2.496266</td>\n",
              "      <td>-0.083724</td>\n",
              "      <td>0.129681</td>\n",
              "      <td>0.732898</td>\n",
              "      <td>0.519014</td>\n",
              "      <td>-0.130006</td>\n",
              "      <td>0.727159</td>\n",
              "      <td>...</td>\n",
              "      <td>-0.110552</td>\n",
              "      <td>0.217606</td>\n",
              "      <td>-0.134794</td>\n",
              "      <td>0.165959</td>\n",
              "      <td>0.126280</td>\n",
              "      <td>-0.434824</td>\n",
              "      <td>-0.081230</td>\n",
              "      <td>-0.151045</td>\n",
              "      <td>17982.10</td>\n",
              "      <td>0</td>\n",
              "    </tr>\n",
              "    <tr>\n",
              "      <th>1</th>\n",
              "      <td>1</td>\n",
              "      <td>0.985100</td>\n",
              "      <td>-0.356045</td>\n",
              "      <td>0.558056</td>\n",
              "      <td>-0.429654</td>\n",
              "      <td>0.277140</td>\n",
              "      <td>0.428605</td>\n",
              "      <td>0.406466</td>\n",
              "      <td>-0.133118</td>\n",
              "      <td>0.347452</td>\n",
              "      <td>...</td>\n",
              "      <td>-0.194936</td>\n",
              "      <td>-0.605761</td>\n",
              "      <td>0.079469</td>\n",
              "      <td>-0.577395</td>\n",
              "      <td>0.190090</td>\n",
              "      <td>0.296503</td>\n",
              "      <td>-0.248052</td>\n",
              "      <td>-0.064512</td>\n",
              "      <td>6531.37</td>\n",
              "      <td>0</td>\n",
              "    </tr>\n",
              "    <tr>\n",
              "      <th>2</th>\n",
              "      <td>2</td>\n",
              "      <td>-0.260272</td>\n",
              "      <td>-0.949385</td>\n",
              "      <td>1.728538</td>\n",
              "      <td>-0.457986</td>\n",
              "      <td>0.074062</td>\n",
              "      <td>1.419481</td>\n",
              "      <td>0.743511</td>\n",
              "      <td>-0.095576</td>\n",
              "      <td>-0.261297</td>\n",
              "      <td>...</td>\n",
              "      <td>-0.005020</td>\n",
              "      <td>0.702906</td>\n",
              "      <td>0.945045</td>\n",
              "      <td>-1.154666</td>\n",
              "      <td>-0.605564</td>\n",
              "      <td>-0.312895</td>\n",
              "      <td>-0.300258</td>\n",
              "      <td>-0.244718</td>\n",
              "      <td>2513.54</td>\n",
              "      <td>0</td>\n",
              "    </tr>\n",
              "    <tr>\n",
              "      <th>3</th>\n",
              "      <td>3</td>\n",
              "      <td>-0.152152</td>\n",
              "      <td>-0.508959</td>\n",
              "      <td>1.746840</td>\n",
              "      <td>-1.090178</td>\n",
              "      <td>0.249486</td>\n",
              "      <td>1.143312</td>\n",
              "      <td>0.518269</td>\n",
              "      <td>-0.065130</td>\n",
              "      <td>-0.205698</td>\n",
              "      <td>...</td>\n",
              "      <td>-0.146927</td>\n",
              "      <td>-0.038212</td>\n",
              "      <td>-0.214048</td>\n",
              "      <td>-1.893131</td>\n",
              "      <td>1.003963</td>\n",
              "      <td>-0.515950</td>\n",
              "      <td>-0.165316</td>\n",
              "      <td>0.048424</td>\n",
              "      <td>5384.44</td>\n",
              "      <td>0</td>\n",
              "    </tr>\n",
              "    <tr>\n",
              "      <th>4</th>\n",
              "      <td>4</td>\n",
              "      <td>-0.206820</td>\n",
              "      <td>-0.165280</td>\n",
              "      <td>1.527053</td>\n",
              "      <td>-0.448293</td>\n",
              "      <td>0.106125</td>\n",
              "      <td>0.530549</td>\n",
              "      <td>0.658849</td>\n",
              "      <td>-0.212660</td>\n",
              "      <td>1.049921</td>\n",
              "      <td>...</td>\n",
              "      <td>-0.106984</td>\n",
              "      <td>0.729727</td>\n",
              "      <td>-0.161666</td>\n",
              "      <td>0.312561</td>\n",
              "      <td>-0.414116</td>\n",
              "      <td>1.071126</td>\n",
              "      <td>0.023712</td>\n",
              "      <td>0.419117</td>\n",
              "      <td>14278.97</td>\n",
              "      <td>0</td>\n",
              "    </tr>\n",
              "  </tbody>\n",
              "</table>\n",
              "<p>5 rows × 31 columns</p>\n",
              "</div>\n",
              "    <div class=\"colab-df-buttons\">\n",
              "\n",
              "  <div class=\"colab-df-container\">\n",
              "    <button class=\"colab-df-convert\" onclick=\"convertToInteractive('df-7cb7fcad-cd15-4b0a-8f12-6ce51025a672')\"\n",
              "            title=\"Convert this dataframe to an interactive table.\"\n",
              "            style=\"display:none;\">\n",
              "\n",
              "  <svg xmlns=\"http://www.w3.org/2000/svg\" height=\"24px\" viewBox=\"0 -960 960 960\">\n",
              "    <path d=\"M120-120v-720h720v720H120Zm60-500h600v-160H180v160Zm220 220h160v-160H400v160Zm0 220h160v-160H400v160ZM180-400h160v-160H180v160Zm440 0h160v-160H620v160ZM180-180h160v-160H180v160Zm440 0h160v-160H620v160Z\"/>\n",
              "  </svg>\n",
              "    </button>\n",
              "\n",
              "  <style>\n",
              "    .colab-df-container {\n",
              "      display:flex;\n",
              "      gap: 12px;\n",
              "    }\n",
              "\n",
              "    .colab-df-convert {\n",
              "      background-color: #E8F0FE;\n",
              "      border: none;\n",
              "      border-radius: 50%;\n",
              "      cursor: pointer;\n",
              "      display: none;\n",
              "      fill: #1967D2;\n",
              "      height: 32px;\n",
              "      padding: 0 0 0 0;\n",
              "      width: 32px;\n",
              "    }\n",
              "\n",
              "    .colab-df-convert:hover {\n",
              "      background-color: #E2EBFA;\n",
              "      box-shadow: 0px 1px 2px rgba(60, 64, 67, 0.3), 0px 1px 3px 1px rgba(60, 64, 67, 0.15);\n",
              "      fill: #174EA6;\n",
              "    }\n",
              "\n",
              "    .colab-df-buttons div {\n",
              "      margin-bottom: 4px;\n",
              "    }\n",
              "\n",
              "    [theme=dark] .colab-df-convert {\n",
              "      background-color: #3B4455;\n",
              "      fill: #D2E3FC;\n",
              "    }\n",
              "\n",
              "    [theme=dark] .colab-df-convert:hover {\n",
              "      background-color: #434B5C;\n",
              "      box-shadow: 0px 1px 3px 1px rgba(0, 0, 0, 0.15);\n",
              "      filter: drop-shadow(0px 1px 2px rgba(0, 0, 0, 0.3));\n",
              "      fill: #FFFFFF;\n",
              "    }\n",
              "  </style>\n",
              "\n",
              "    <script>\n",
              "      const buttonEl =\n",
              "        document.querySelector('#df-7cb7fcad-cd15-4b0a-8f12-6ce51025a672 button.colab-df-convert');\n",
              "      buttonEl.style.display =\n",
              "        google.colab.kernel.accessAllowed ? 'block' : 'none';\n",
              "\n",
              "      async function convertToInteractive(key) {\n",
              "        const element = document.querySelector('#df-7cb7fcad-cd15-4b0a-8f12-6ce51025a672');\n",
              "        const dataTable =\n",
              "          await google.colab.kernel.invokeFunction('convertToInteractive',\n",
              "                                                    [key], {});\n",
              "        if (!dataTable) return;\n",
              "\n",
              "        const docLinkHtml = 'Like what you see? Visit the ' +\n",
              "          '<a target=\"_blank\" href=https://colab.research.google.com/notebooks/data_table.ipynb>data table notebook</a>'\n",
              "          + ' to learn more about interactive tables.';\n",
              "        element.innerHTML = '';\n",
              "        dataTable['output_type'] = 'display_data';\n",
              "        await google.colab.output.renderOutput(dataTable, element);\n",
              "        const docLink = document.createElement('div');\n",
              "        docLink.innerHTML = docLinkHtml;\n",
              "        element.appendChild(docLink);\n",
              "      }\n",
              "    </script>\n",
              "  </div>\n",
              "\n",
              "\n",
              "<div id=\"df-28cc59e4-6f38-4a0e-af31-01b298e584ba\">\n",
              "  <button class=\"colab-df-quickchart\" onclick=\"quickchart('df-28cc59e4-6f38-4a0e-af31-01b298e584ba')\"\n",
              "            title=\"Suggest charts\"\n",
              "            style=\"display:none;\">\n",
              "\n",
              "<svg xmlns=\"http://www.w3.org/2000/svg\" height=\"24px\"viewBox=\"0 0 24 24\"\n",
              "     width=\"24px\">\n",
              "    <g>\n",
              "        <path d=\"M19 3H5c-1.1 0-2 .9-2 2v14c0 1.1.9 2 2 2h14c1.1 0 2-.9 2-2V5c0-1.1-.9-2-2-2zM9 17H7v-7h2v7zm4 0h-2V7h2v10zm4 0h-2v-4h2v4z\"/>\n",
              "    </g>\n",
              "</svg>\n",
              "  </button>\n",
              "\n",
              "<style>\n",
              "  .colab-df-quickchart {\n",
              "      --bg-color: #E8F0FE;\n",
              "      --fill-color: #1967D2;\n",
              "      --hover-bg-color: #E2EBFA;\n",
              "      --hover-fill-color: #174EA6;\n",
              "      --disabled-fill-color: #AAA;\n",
              "      --disabled-bg-color: #DDD;\n",
              "  }\n",
              "\n",
              "  [theme=dark] .colab-df-quickchart {\n",
              "      --bg-color: #3B4455;\n",
              "      --fill-color: #D2E3FC;\n",
              "      --hover-bg-color: #434B5C;\n",
              "      --hover-fill-color: #FFFFFF;\n",
              "      --disabled-bg-color: #3B4455;\n",
              "      --disabled-fill-color: #666;\n",
              "  }\n",
              "\n",
              "  .colab-df-quickchart {\n",
              "    background-color: var(--bg-color);\n",
              "    border: none;\n",
              "    border-radius: 50%;\n",
              "    cursor: pointer;\n",
              "    display: none;\n",
              "    fill: var(--fill-color);\n",
              "    height: 32px;\n",
              "    padding: 0;\n",
              "    width: 32px;\n",
              "  }\n",
              "\n",
              "  .colab-df-quickchart:hover {\n",
              "    background-color: var(--hover-bg-color);\n",
              "    box-shadow: 0 1px 2px rgba(60, 64, 67, 0.3), 0 1px 3px 1px rgba(60, 64, 67, 0.15);\n",
              "    fill: var(--button-hover-fill-color);\n",
              "  }\n",
              "\n",
              "  .colab-df-quickchart-complete:disabled,\n",
              "  .colab-df-quickchart-complete:disabled:hover {\n",
              "    background-color: var(--disabled-bg-color);\n",
              "    fill: var(--disabled-fill-color);\n",
              "    box-shadow: none;\n",
              "  }\n",
              "\n",
              "  .colab-df-spinner {\n",
              "    border: 2px solid var(--fill-color);\n",
              "    border-color: transparent;\n",
              "    border-bottom-color: var(--fill-color);\n",
              "    animation:\n",
              "      spin 1s steps(1) infinite;\n",
              "  }\n",
              "\n",
              "  @keyframes spin {\n",
              "    0% {\n",
              "      border-color: transparent;\n",
              "      border-bottom-color: var(--fill-color);\n",
              "      border-left-color: var(--fill-color);\n",
              "    }\n",
              "    20% {\n",
              "      border-color: transparent;\n",
              "      border-left-color: var(--fill-color);\n",
              "      border-top-color: var(--fill-color);\n",
              "    }\n",
              "    30% {\n",
              "      border-color: transparent;\n",
              "      border-left-color: var(--fill-color);\n",
              "      border-top-color: var(--fill-color);\n",
              "      border-right-color: var(--fill-color);\n",
              "    }\n",
              "    40% {\n",
              "      border-color: transparent;\n",
              "      border-right-color: var(--fill-color);\n",
              "      border-top-color: var(--fill-color);\n",
              "    }\n",
              "    60% {\n",
              "      border-color: transparent;\n",
              "      border-right-color: var(--fill-color);\n",
              "    }\n",
              "    80% {\n",
              "      border-color: transparent;\n",
              "      border-right-color: var(--fill-color);\n",
              "      border-bottom-color: var(--fill-color);\n",
              "    }\n",
              "    90% {\n",
              "      border-color: transparent;\n",
              "      border-bottom-color: var(--fill-color);\n",
              "    }\n",
              "  }\n",
              "</style>\n",
              "\n",
              "  <script>\n",
              "    async function quickchart(key) {\n",
              "      const quickchartButtonEl =\n",
              "        document.querySelector('#' + key + ' button');\n",
              "      quickchartButtonEl.disabled = true;  // To prevent multiple clicks.\n",
              "      quickchartButtonEl.classList.add('colab-df-spinner');\n",
              "      try {\n",
              "        const charts = await google.colab.kernel.invokeFunction(\n",
              "            'suggestCharts', [key], {});\n",
              "      } catch (error) {\n",
              "        console.error('Error during call to suggestCharts:', error);\n",
              "      }\n",
              "      quickchartButtonEl.classList.remove('colab-df-spinner');\n",
              "      quickchartButtonEl.classList.add('colab-df-quickchart-complete');\n",
              "    }\n",
              "    (() => {\n",
              "      let quickchartButtonEl =\n",
              "        document.querySelector('#df-28cc59e4-6f38-4a0e-af31-01b298e584ba button');\n",
              "      quickchartButtonEl.style.display =\n",
              "        google.colab.kernel.accessAllowed ? 'block' : 'none';\n",
              "    })();\n",
              "  </script>\n",
              "</div>\n",
              "    </div>\n",
              "  </div>\n"
            ]
          },
          "metadata": {},
          "execution_count": 2
        }
      ]
    },
    {
      "cell_type": "code",
      "source": [
        "import pandas as pd\n",
        "from sklearn.preprocessing import LabelEncoder\n",
        "\n",
        "\n",
        "# Separate Y (last column) and X (all columns except the last one)\n",
        "Y = dataframe.iloc[:, -1]\n",
        "X = dataframe.iloc[:, :-1]\n",
        "\n",
        "# create Sequential model\n",
        "model = Sequential()\n",
        "model.add(Dense(1024, input_dim=30, activation='relu'))\n",
        "\n",
        "model.add(Dense(512, activation='relu'))\n",
        "\n",
        "model.add(Dense(1, activation='sigmoid'))\n",
        "\n",
        "# Compile model using Adam optimizer\n",
        "model.compile(loss='binary_crossentropy', optimizer='adam', metrics=['accuracy'])\n",
        "\n",
        "# Fit the model\n",
        "model.fit(X, Y, epochs=10, batch_size=512)\n",
        "\n",
        "# evaluate the model on training data\n",
        "scores = model.evaluate(X, Y, verbose=0)\n",
        "print(\"%s: %.2f%%\" % (model.metrics_names[1], scores[1]*100))\n",
        "\n",
        "# serialize model to JSON\n",
        "model_json = model.to_json()\n",
        "with open(\"model.json\", \"w\") as json_file:\n",
        "    json_file.write(model_json)\n",
        "\n",
        "# serialize weights to HDF5\n",
        "model.save_weights(\"model.h5\")\n",
        "print(\"Saved model to disk\")"
      ],
      "metadata": {
        "colab": {
          "base_uri": "https://localhost:8080/"
        },
        "id": "Z_M_KvDC8Z-h",
        "outputId": "4c3aaae7-e7dd-4d0c-e3f6-a587b8fae48a"
      },
      "execution_count": null,
      "outputs": [
        {
          "output_type": "stream",
          "name": "stdout",
          "text": [
            "Epoch 1/10\n",
            "1111/1111 [==============================] - 6s 4ms/step - loss: 631.2176 - accuracy: 0.7294\n",
            "Epoch 2/10\n",
            "1111/1111 [==============================] - 4s 3ms/step - loss: 79.3519 - accuracy: 0.7520\n",
            "Epoch 3/10\n",
            "1111/1111 [==============================] - 4s 4ms/step - loss: 13.9449 - accuracy: 0.8286\n",
            "Epoch 4/10\n",
            "1111/1111 [==============================] - 5s 4ms/step - loss: 5.9644 - accuracy: 0.8842\n",
            "Epoch 5/10\n",
            "1111/1111 [==============================] - 4s 3ms/step - loss: 4.1700 - accuracy: 0.9063\n",
            "Epoch 6/10\n",
            "1111/1111 [==============================] - 4s 4ms/step - loss: 1.1891 - accuracy: 0.9477\n",
            "Epoch 7/10\n",
            "1111/1111 [==============================] - 5s 4ms/step - loss: 1.6258 - accuracy: 0.9297\n",
            "Epoch 8/10\n",
            "1111/1111 [==============================] - 4s 3ms/step - loss: 0.6767 - accuracy: 0.9476\n",
            "Epoch 9/10\n",
            "1111/1111 [==============================] - 4s 3ms/step - loss: 0.2355 - accuracy: 0.9746\n",
            "Epoch 10/10\n",
            "1111/1111 [==============================] - 4s 4ms/step - loss: 0.0554 - accuracy: 0.9823\n",
            "accuracy: 99.11%\n",
            "Saved model to disk\n"
          ]
        }
      ]
    },
    {
      "cell_type": "markdown",
      "metadata": {
        "id": "zR43GAF_VTCW"
      },
      "source": [
        "### Load model from disk and use it\n",
        "\n",
        "After the model was serialized to JSON format and saved on the disk, we can use the `model_from_json` function to load the model's architecture again and then load the weights using `load_weights` function.\n",
        "\n",
        "Once the model's topology is defined and the weights are loaded, we can use the model for evaluation but we have to make sure to compile it first!"
      ]
    },
    {
      "cell_type": "code",
      "metadata": {
        "id": "TcHLNgeaVWbz",
        "colab": {
          "base_uri": "https://localhost:8080/"
        },
        "outputId": "ade3c4f9-1494-4aa1-a0d8-60fbe16942cd"
      },
      "source": [
        "# load json and create model\n",
        "json_file = open('model.json', 'r')\n",
        "loaded_model_json = json_file.read()\n",
        "json_file.close()\n",
        "loaded_model = model_from_json(loaded_model_json)\n",
        "\n",
        "# load weights into new model\n",
        "loaded_model.load_weights(\"model.h5\")\n",
        "print(\"Loaded model from disk\")\n",
        "\n",
        "# don't forget to compile the model!\n",
        "loaded_model.compile(loss='binary_crossentropy', optimizer='rmsprop', metrics=['accuracy'])\n",
        "\n",
        "# evaluate loaded model on training data\n",
        "score = loaded_model.evaluate(X, Y, verbose=0)\n",
        "print(\"%s: %.2f%%\" % (loaded_model.metrics_names[1], score[1]*100))"
      ],
      "execution_count": null,
      "outputs": [
        {
          "output_type": "stream",
          "name": "stdout",
          "text": [
            "Loaded model from disk\n",
            "accuracy: 99.11%\n"
          ]
        }
      ]
    },
    {
      "cell_type": "markdown",
      "metadata": {
        "id": "XBI4o30wzL-s"
      },
      "source": [
        "##Keras Callbacks\n",
        "\n",
        "A callback is a function to be applied at given stages of the training procedure.\n",
        "Get a view on internal states and statistics of the model during training.\n",
        "You can pass a list of callbacks to the .fit() method.\n",
        "The relevant methods of the callbacks will then be called at each stage of the training.\n"
      ]
    },
    {
      "cell_type": "markdown",
      "metadata": {
        "id": "GP6tWzGrryhC"
      },
      "source": [
        "## Checkpoint Neural Network Model Improvements\n",
        "\n",
        "The first callback function we’ll look at today is the Model Checkpoint callback. This callback saves the model after every epoch.\n",
        "Let's start by importing the necessary libraries, and then splitting the data into input variables (X) and output variable (Y)."
      ]
    },
    {
      "cell_type": "code",
      "metadata": {
        "id": "XOTAMt_WZGnr"
      },
      "source": [
        "from tensorflow.keras.models import Sequential\n",
        "from tensorflow.keras.layers import Dense\n",
        "from tensorflow.keras.callbacks import ModelCheckpoint\n",
        "import numpy\n",
        "\n",
        "dataframe = pd.read_csv(\"/content/drive/MyDrive/creditcard_2023.csv\")\n",
        "Y = dataframe.iloc[:, -1]\n",
        "X = dataframe.iloc[:, :-1]"
      ],
      "execution_count": null,
      "outputs": []
    },
    {
      "cell_type": "markdown",
      "metadata": {
        "id": "bH57GX_ZZYHb"
      },
      "source": [
        "Let's define a `create_model` function to create and return the model.\n"
      ]
    },
    {
      "cell_type": "code",
      "metadata": {
        "id": "qyTGzCcoZPlh"
      },
      "source": [
        "def create_model():\n",
        "  model = Sequential()\n",
        "  model.add(Dense(1024, input_dim=30, activation='relu'))\n",
        "\n",
        "  model.add(Dense(512, activation='relu'))\n",
        "\n",
        "  model.add(Dense(1, activation='sigmoid'))\n",
        "\n",
        "  # Compile model\n",
        "  model.compile(loss='binary_crossentropy', optimizer='adam', metrics=['accuracy'])\n",
        "\n",
        "  return model"
      ],
      "execution_count": null,
      "outputs": []
    },
    {
      "cell_type": "markdown",
      "metadata": {
        "id": "w9v5gAm9Ze1d"
      },
      "source": [
        "Initialize the ModelCheckpoint callback and pass it to the `model.fit()` function"
      ]
    },
    {
      "cell_type": "code",
      "metadata": {
        "id": "lQi_GMDlqpc7",
        "colab": {
          "base_uri": "https://localhost:8080/"
        },
        "outputId": "2b08eaca-a834-4e4c-86bd-882473a757d3"
      },
      "source": [
        "# define the checkpoint's name that includes the index of the epoch and the validation accuracy\n",
        "filepath=\"weights-improvement-{epoch:02d}-{val_accuracy:.2f}.hdf5\"\n",
        "\n",
        "# create an instance of ModelCheckpoint\n",
        "checkpoint = ModelCheckpoint(filepath, monitor='val_accuracy', verbose=1, save_best_only=True, mode='max')\n",
        "callbacks_list = [checkpoint]\n",
        "\n",
        "# create the model\n",
        "model = create_model()\n",
        "\n",
        "# fit the model with the callbacks list\n",
        "model.fit(X, Y, validation_split=0.33, epochs=10, batch_size=512, callbacks=callbacks_list, verbose=0)\n"
      ],
      "execution_count": null,
      "outputs": [
        {
          "output_type": "stream",
          "name": "stdout",
          "text": [
            "\n",
            "Epoch 1: val_accuracy improved from -inf to 1.00000, saving model to weights-improvement-01-1.00.hdf5\n"
          ]
        },
        {
          "output_type": "stream",
          "name": "stderr",
          "text": [
            "/usr/local/lib/python3.10/dist-packages/keras/src/engine/training.py:3103: UserWarning: You are saving your model as an HDF5 file via `model.save()`. This file format is considered legacy. We recommend using instead the native Keras format, e.g. `model.save('my_model.keras')`.\n",
            "  saving_api.save_model(\n"
          ]
        },
        {
          "output_type": "stream",
          "name": "stdout",
          "text": [
            "\n",
            "Epoch 2: val_accuracy did not improve from 1.00000\n",
            "\n",
            "Epoch 3: val_accuracy did not improve from 1.00000\n",
            "\n",
            "Epoch 4: val_accuracy did not improve from 1.00000\n",
            "\n",
            "Epoch 5: val_accuracy did not improve from 1.00000\n",
            "\n",
            "Epoch 6: val_accuracy did not improve from 1.00000\n",
            "\n",
            "Epoch 7: val_accuracy did not improve from 1.00000\n",
            "\n",
            "Epoch 8: val_accuracy did not improve from 1.00000\n",
            "\n",
            "Epoch 9: val_accuracy did not improve from 1.00000\n",
            "\n",
            "Epoch 10: val_accuracy did not improve from 1.00000\n"
          ]
        },
        {
          "output_type": "execute_result",
          "data": {
            "text/plain": [
              "<keras.src.callbacks.History at 0x7d28a149eda0>"
            ]
          },
          "metadata": {},
          "execution_count": 14
        }
      ]
    },
    {
      "cell_type": "markdown",
      "metadata": {
        "id": "5AF4gbe3r35x"
      },
      "source": [
        "## Checkpoint Best Neural Network Model Only\n",
        "\n",
        "Instead of saving a new copy of the model every time the monitored value improves, we can save only 1 model checkpoint by specifying a fixed name for the checkpoint."
      ]
    },
    {
      "cell_type": "code",
      "metadata": {
        "id": "ElnfgOiJr6YB",
        "colab": {
          "base_uri": "https://localhost:8080/"
        },
        "outputId": "32c425a6-28f3-4e95-9789-09566e4eac0e"
      },
      "source": [
        "# fixed checkpoint name\n",
        "filepath=\"weights_best.hdf5\"\n",
        "checkpoint = ModelCheckpoint(filepath, monitor='val_accuracy', verbose=1, save_best_only=True, mode='max')\n",
        "callbacks_list = [checkpoint]\n",
        "\n",
        "# create the model\n",
        "model = create_model()\n",
        "\n",
        "# fit the model\n",
        "model.fit(X, Y, validation_split=0.33, epochs=10, batch_size=512, callbacks=callbacks_list, verbose=0)"
      ],
      "execution_count": null,
      "outputs": [
        {
          "output_type": "stream",
          "name": "stdout",
          "text": [
            "\n",
            "Epoch 1: val_accuracy improved from -inf to 1.00000, saving model to weights_best.hdf5\n"
          ]
        },
        {
          "output_type": "stream",
          "name": "stderr",
          "text": [
            "/usr/local/lib/python3.10/dist-packages/keras/src/engine/training.py:3103: UserWarning: You are saving your model as an HDF5 file via `model.save()`. This file format is considered legacy. We recommend using instead the native Keras format, e.g. `model.save('my_model.keras')`.\n",
            "  saving_api.save_model(\n"
          ]
        },
        {
          "output_type": "stream",
          "name": "stdout",
          "text": [
            "\n",
            "Epoch 2: val_accuracy did not improve from 1.00000\n",
            "\n",
            "Epoch 3: val_accuracy did not improve from 1.00000\n",
            "\n",
            "Epoch 4: val_accuracy did not improve from 1.00000\n",
            "\n",
            "Epoch 5: val_accuracy did not improve from 1.00000\n",
            "\n",
            "Epoch 6: val_accuracy did not improve from 1.00000\n",
            "\n",
            "Epoch 7: val_accuracy did not improve from 1.00000\n",
            "\n",
            "Epoch 8: val_accuracy did not improve from 1.00000\n",
            "\n",
            "Epoch 9: val_accuracy did not improve from 1.00000\n",
            "\n",
            "Epoch 10: val_accuracy did not improve from 1.00000\n"
          ]
        },
        {
          "output_type": "execute_result",
          "data": {
            "text/plain": [
              "<keras.src.callbacks.History at 0x7d28a6e0f910>"
            ]
          },
          "metadata": {},
          "execution_count": 15
        }
      ]
    },
    {
      "cell_type": "markdown",
      "metadata": {
        "id": "7DuVZXh5ORkT"
      },
      "source": [
        "## Load and use weights from a checkpoint\n",
        "\n",
        "Now that we have saved the best model weights, let's see how we can load and re-use them.\n"
      ]
    },
    {
      "cell_type": "code",
      "metadata": {
        "id": "Yni7DxMpOWoT",
        "colab": {
          "base_uri": "https://localhost:8080/"
        },
        "outputId": "08e65db1-6687-483a-ca73-ffe84a632df4"
      },
      "source": [
        "from tensorflow.keras.models import Sequential\n",
        "from tensorflow.keras.layers import Dense\n",
        "import numpy\n",
        "\n",
        "# create model with same architecture!\n",
        "model = Sequential()\n",
        "model.add(Dense(1024, input_dim=30, activation='relu'))\n",
        "\n",
        "model.add(Dense(512, activation='relu'))\n",
        "\n",
        "model.add(Dense(1, activation='sigmoid'))\n",
        "\n",
        "# load best weights\n",
        "model.load_weights(\"weights_best.hdf5\")\n",
        "\n",
        "# compile model (required to make predictions)\n",
        "model.compile(loss='binary_crossentropy', optimizer='adam', metrics=['accuracy'])\n",
        "print(\"Created model and loaded weights from file\")\n",
        "\n",
        "\n",
        "# estimate accuracy on whole dataset using loaded weights\n",
        "scores = model.evaluate(X, Y, verbose=0)\n",
        "print(\"%s: %.2f%%\" % (model.metrics_names[1], scores[1]*100))\n"
      ],
      "execution_count": null,
      "outputs": [
        {
          "output_type": "stream",
          "name": "stdout",
          "text": [
            "Created model and loaded weights from file\n",
            "accuracy: 76.67%\n"
          ]
        }
      ]
    },
    {
      "cell_type": "markdown",
      "metadata": {
        "id": "BDVd6nZAZzsS"
      },
      "source": [
        "## Visualize model training history\n",
        "\n",
        "Another concept discussed in this lesson is the model training history. When calling the `model.fit()` function, we can retrieve the training history and use that to visualize the training process."
      ]
    },
    {
      "cell_type": "code",
      "metadata": {
        "id": "eMd8XnOAZ4a8",
        "colab": {
          "base_uri": "https://localhost:8080/",
          "height": 944
        },
        "outputId": "2ed6a38f-ce58-4978-8ebf-334a9771f648"
      },
      "source": [
        "from tensorflow.keras.models import Sequential\n",
        "from tensorflow.keras.layers import Dense\n",
        "import matplotlib.pyplot as plt\n",
        "import numpy\n",
        "\n",
        "dataframe = pd.read_csv(\"/content/drive/MyDrive/creditcard_2023.csv\")\n",
        "Y = dataframe.iloc[:, -1]\n",
        "X = dataframe.iloc[:, :-1]\n",
        "\n",
        "# create model\n",
        "model = Sequential()\n",
        "model.add(Dense(1024, input_dim=30, activation='relu'))\n",
        "\n",
        "model.add(Dense(512, activation='relu'))\n",
        "\n",
        "model.add(Dense(1, activation='sigmoid'))\n",
        "\n",
        "# Compile model\n",
        "model.compile(loss='binary_crossentropy', optimizer='adam', metrics=['accuracy'])\n",
        "\n",
        "# Fit the model and retrieve the training history\n",
        "training_history = model.fit(X, Y, validation_split=0.33, epochs=100, batch_size=512, verbose=0)\n",
        "\n",
        "# list all data in history\n",
        "print(training_history.history.keys())\n",
        "\n",
        "# summarize history for training and validation accuracy\n",
        "plt.plot(training_history.history['accuracy'])\n",
        "plt.plot(training_history.history['val_accuracy'])\n",
        "plt.title('model accuracy')\n",
        "plt.ylabel('accuracy')\n",
        "plt.xlabel('epoch')\n",
        "plt.legend(['train', 'test'], loc='upper left')\n",
        "plt.show()\n",
        "\n",
        "# summarize history for training and validation loss\n",
        "plt.plot(training_history.history['loss'])\n",
        "plt.plot(training_history.history['val_loss'])\n",
        "plt.title('model loss')\n",
        "plt.ylabel('loss')\n",
        "plt.xlabel('epoch')\n",
        "plt.legend(['train', 'test'], loc='upper left')\n",
        "plt.show()\n"
      ],
      "execution_count": null,
      "outputs": [
        {
          "output_type": "stream",
          "name": "stdout",
          "text": [
            "dict_keys(['loss', 'accuracy', 'val_loss', 'val_accuracy'])\n"
          ]
        },
        {
          "output_type": "display_data",
          "data": {
            "text/plain": [
              "<Figure size 640x480 with 1 Axes>"
            ],
            "image/png": "[encoded data removed]"
          },
          "metadata": {}
        },
        {
          "output_type": "display_data",
          "data": {
            "text/plain": [
              "<Figure size 640x480 with 1 Axes>"
            ],
            "image/png": "[encoded data removed]"
          },
          "metadata": {}
        }
      ]
    },
    {
      "cell_type": "markdown",
      "metadata": {
        "id": "vIJ5mvGePHoK"
      },
      "source": [
        "##Introducing Dropouts"
      ]
    },
    {
      "cell_type": "markdown",
      "metadata": {
        "id": "rzkC8HC8PQjw"
      },
      "source": [
        "Dropouts can help the model generalize better, and would help reduce falling in the overfitting trap.\n",
        "\n",
        "For this purpose, we will now add some dropout layers and see their effect on the results we would obtain."
      ]
    },
    {
      "cell_type": "code",
      "metadata": {
        "colab": {
          "base_uri": "https://localhost:8080/"
        },
        "id": "GIvjdIQ5O8hh",
        "outputId": "37f66207-3957-478c-f4da-e96602413811"
      },
      "source": [
        "from tensorflow.keras.models import Sequential\n",
        "from tensorflow.keras.layers import Dense\n",
        "from tensorflow.keras.layers import Dropout\n",
        "import matplotlib.pyplot as plt\n",
        "import numpy\n",
        "\n",
        "dataframe = pd.read_csv(\"/content/drive/MyDrive/creditcard_2023.csv\")\n",
        "Y = dataframe.iloc[:, -1]\n",
        "X = dataframe.iloc[:, :-1]\n",
        "\n",
        "# create model\n",
        "model = Sequential()\n",
        "model.add(Dense(1024, input_dim=30, activation='relu'))\n",
        "model.add(Dropout(rate = 0.2))\n",
        "model.add(Dense(512, activation='relu'))\n",
        "model.add(Dropout(rate = 0.1))\n",
        "model.add(Dense(1, activation='sigmoid'))\n",
        "\n",
        "# Compile model\n",
        "model.compile(loss='binary_crossentropy', optimizer='adam', metrics=['accuracy'])\n",
        "\n",
        "# Fit the model and retrieve the training history\n",
        "model.fit(X, Y, validation_split=0.33, epochs=20, batch_size=512, verbose=1)\n",
        "\n",
        "# evaluate the model on training data\n",
        "scores = model.evaluate(X, Y, verbose=1)\n",
        "print(\"%s: %.2f%%\" % (model.metrics_names[1], scores[1]*100))"
      ],
      "execution_count": null,
      "outputs": [
        {
          "output_type": "stream",
          "name": "stdout",
          "text": [
            "Epoch 1/20\n",
            "745/745 [==============================] - 5s 5ms/step - loss: 249.2933 - accuracy: 0.7276 - val_loss: 0.7618 - val_accuracy: 0.0000e+00\n",
            "Epoch 2/20\n",
            "745/745 [==============================] - 3s 5ms/step - loss: 0.4611 - accuracy: 0.7834 - val_loss: 0.5009 - val_accuracy: 0.9893\n",
            "Epoch 3/20\n",
            "745/745 [==============================] - 4s 6ms/step - loss: 0.4266 - accuracy: 0.7916 - val_loss: 1.3188 - val_accuracy: 0.0000e+00\n",
            "Epoch 4/20\n",
            "745/745 [==============================] - 4s 5ms/step - loss: 0.4138 - accuracy: 0.7987 - val_loss: 0.1024 - val_accuracy: 1.0000\n",
            "Epoch 5/20\n",
            "745/745 [==============================] - 3s 4ms/step - loss: 0.4174 - accuracy: 0.8153 - val_loss: 0.3029 - val_accuracy: 1.0000\n",
            "Epoch 6/20\n",
            "745/745 [==============================] - 3s 5ms/step - loss: 0.3789 - accuracy: 0.8318 - val_loss: 1.2012 - val_accuracy: 0.0000e+00\n",
            "Epoch 7/20\n",
            "745/745 [==============================] - 5s 6ms/step - loss: 0.3523 - accuracy: 0.8607 - val_loss: 0.1448 - val_accuracy: 1.0000\n",
            "Epoch 8/20\n",
            "745/745 [==============================] - 4s 5ms/step - loss: 0.3362 - accuracy: 0.8814 - val_loss: 0.0510 - val_accuracy: 1.0000\n",
            "Epoch 9/20\n",
            "745/745 [==============================] - 3s 5ms/step - loss: 0.3280 - accuracy: 0.8889 - val_loss: 0.1639 - val_accuracy: 1.0000\n",
            "Epoch 10/20\n",
            "745/745 [==============================] - 4s 5ms/step - loss: 0.3219 - accuracy: 0.8943 - val_loss: 0.0359 - val_accuracy: 1.0000\n",
            "Epoch 11/20\n",
            "745/745 [==============================] - 4s 5ms/step - loss: 0.3169 - accuracy: 0.9008 - val_loss: 0.0933 - val_accuracy: 1.0000\n",
            "Epoch 12/20\n",
            "745/745 [==============================] - 3s 4ms/step - loss: 0.3105 - accuracy: 0.9044 - val_loss: 0.5454 - val_accuracy: 0.7610\n",
            "Epoch 13/20\n",
            "745/745 [==============================] - 4s 5ms/step - loss: 0.3010 - accuracy: 0.9002 - val_loss: 0.0946 - val_accuracy: 1.0000\n",
            "Epoch 14/20\n",
            "745/745 [==============================] - 4s 5ms/step - loss: 0.2738 - accuracy: 0.9111 - val_loss: 0.0514 - val_accuracy: 1.0000\n",
            "Epoch 15/20\n",
            "745/745 [==============================] - 4s 5ms/step - loss: 0.2598 - accuracy: 0.9161 - val_loss: 0.0463 - val_accuracy: 1.0000\n",
            "Epoch 16/20\n",
            "745/745 [==============================] - 4s 5ms/step - loss: 0.2372 - accuracy: 0.9263 - val_loss: 0.2726 - val_accuracy: 0.8531\n",
            "Epoch 17/20\n",
            "745/745 [==============================] - 3s 4ms/step - loss: 0.2218 - accuracy: 0.9322 - val_loss: 0.0193 - val_accuracy: 0.9999\n",
            "Epoch 18/20\n",
            "745/745 [==============================] - 5s 7ms/step - loss: 0.2105 - accuracy: 0.9352 - val_loss: 0.0395 - val_accuracy: 0.9967\n",
            "Epoch 19/20\n",
            "745/745 [==============================] - 6s 7ms/step - loss: 0.2250 - accuracy: 0.9323 - val_loss: 0.0123 - val_accuracy: 1.0000\n",
            "Epoch 20/20\n",
            "745/745 [==============================] - 4s 5ms/step - loss: 0.2408 - accuracy: 0.9243 - val_loss: 0.0030 - val_accuracy: 1.0000\n",
            "17770/17770 [==============================] - 41s 2ms/step - loss: 0.0701 - accuracy: 0.9854\n",
            "accuracy: 98.54%\n"
          ]
        }
      ]
    },
    {
      "cell_type": "markdown",
      "metadata": {
        "id": "k2de9bNPStTx"
      },
      "source": [
        "We see that the performance of our model increases."
      ]
    }
  ]
}